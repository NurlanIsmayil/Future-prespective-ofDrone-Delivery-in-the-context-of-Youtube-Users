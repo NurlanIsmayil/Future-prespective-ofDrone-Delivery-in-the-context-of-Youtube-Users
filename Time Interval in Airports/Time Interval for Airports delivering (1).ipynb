{
 "cells": [
  {
   "cell_type": "markdown",
   "id": "de99f02e",
   "metadata": {},
   "source": [
    "# Time Interval for Airports delivering"
   ]
  },
  {
   "cell_type": "markdown",
   "id": "ad11e81a",
   "metadata": {},
   "source": [
    "In our machine learning project analyzing global airports, we focused on studying the created and updated times of airport data, exploring the time intervals between these events. By examining the time intervals, we gained insights into the dynamics and evolution of airport information. The analysis involved calculating various metrics, such as average time interval, standard deviation, and trends over time. These findings provided valuable information about the frequency of updates, patterns of data maintenance, and potential correlations with external factors. By leveraging machine learning techniques, we aimed to uncover underlying patterns in the temporal dynamics of airport data, enabling us to make informed decisions and improve the accuracy and reliability of our models."
   ]
  },
  {
   "cell_type": "markdown",
   "id": "28228b62",
   "metadata": {},
   "source": [
    "###### Importing Libraries"
   ]
  },
  {
   "cell_type": "code",
   "execution_count": 800,
   "id": "467530f2",
   "metadata": {},
   "outputs": [],
   "source": [
    "import pandas as pd\n",
    "import numpy as np\n",
    "from sklearn.impute import SimpleImputer\n",
    "from sklearn.impute import KNNImputer\n",
    "from sklearn.preprocessing import LabelEncoder\n",
    "from sklearn.preprocessing import PowerTransformer\n",
    "import matplotlib.pyplot as plt\n",
    "import seaborn as sns\n",
    "from sklearn.preprocessing import QuantileTransformer\n",
    "from sklearn.feature_selection import SelectKBest, f_regression\n",
    "from sklearn.feature_selection import SelectKBest, mutual_info_regression\n",
    "from sklearn.feature_selection import RFE\n",
    "from sklearn.linear_model import LinearRegression\n",
    "import statsmodels.api as sm\n",
    "import warnings\n",
    "from sklearn.preprocessing import OrdinalEncoder\n",
    "warnings.filterwarnings('ignore')\n",
    "\n",
    "%matplotlib inline\n"
   ]
  },
  {
   "cell_type": "markdown",
   "id": "47d4d352",
   "metadata": {},
   "source": [
    "###### Importing data set"
   ]
  },
  {
   "cell_type": "code",
   "execution_count": 801,
   "id": "c8181bd7",
   "metadata": {},
   "outputs": [],
   "source": [
    "df = pd.read_csv('C:\\\\Users\\\\Galaxy Computers\\\\Desktop\\\\Projepafka\\\\global_airports_3.csv')"
   ]
  },
  {
   "cell_type": "code",
   "execution_count": 802,
   "id": "814bcfba",
   "metadata": {
    "scrolled": true
   },
   "outputs": [
    {
     "data": {
      "text/html": [
       "<div>\n",
       "<style scoped>\n",
       "    .dataframe tbody tr th:only-of-type {\n",
       "        vertical-align: middle;\n",
       "    }\n",
       "\n",
       "    .dataframe tbody tr th {\n",
       "        vertical-align: top;\n",
       "    }\n",
       "\n",
       "    .dataframe thead th {\n",
       "        text-align: right;\n",
       "    }\n",
       "</style>\n",
       "<table border=\"1\" class=\"dataframe\">\n",
       "  <thead>\n",
       "    <tr style=\"text-align: right;\">\n",
       "      <th></th>\n",
       "      <th>location</th>\n",
       "      <th>nameshort</th>\n",
       "      <th>namelong</th>\n",
       "      <th>namealt</th>\n",
       "      <th>city</th>\n",
       "      <th>icao</th>\n",
       "      <th>iata</th>\n",
       "      <th>apttype</th>\n",
       "      <th>aptclass</th>\n",
       "      <th>authority</th>\n",
       "      <th>...</th>\n",
       "      <th>lastcheckdate</th>\n",
       "      <th>remarks</th>\n",
       "      <th>url_lca</th>\n",
       "      <th>source</th>\n",
       "      <th>createdate</th>\n",
       "      <th>updatedate</th>\n",
       "      <th>geonameid</th>\n",
       "      <th>gdb_geomattr_data</th>\n",
       "      <th>rwwidthm</th>\n",
       "      <th>location_2</th>\n",
       "    </tr>\n",
       "  </thead>\n",
       "  <tbody>\n",
       "    <tr>\n",
       "      <th>0</th>\n",
       "      <td>POINT(-85.295502 9.81112)</td>\n",
       "      <td>La Javilla</td>\n",
       "      <td>La Javilla Airport</td>\n",
       "      <td>NaN</td>\n",
       "      <td></td>\n",
       "      <td>MLLJ</td>\n",
       "      <td></td>\n",
       "      <td>Airstrip</td>\n",
       "      <td>Unspecified</td>\n",
       "      <td></td>\n",
       "      <td>...</td>\n",
       "      <td>2018-05-10T22:00:00Z</td>\n",
       "      <td>NaN</td>\n",
       "      <td>NaN</td>\n",
       "      <td>NaN</td>\n",
       "      <td>2018-05-10T22:00:00Z</td>\n",
       "      <td>2018-05-12T09:30:14.627Z</td>\n",
       "      <td>3623378.0</td>\n",
       "      <td>NaN</td>\n",
       "      <td>NaN</td>\n",
       "      <td>POINT(-85.2955 9.81112)</td>\n",
       "    </tr>\n",
       "    <tr>\n",
       "      <th>1</th>\n",
       "      <td>POINT(3.32214 6.57853)</td>\n",
       "      <td>Murtala Muhammed</td>\n",
       "      <td>Murtala Muhammed</td>\n",
       "      <td>NaN</td>\n",
       "      <td>Lagos</td>\n",
       "      <td>DNMM</td>\n",
       "      <td>LOS</td>\n",
       "      <td>Airport</td>\n",
       "      <td>International</td>\n",
       "      <td>Civil/Military</td>\n",
       "      <td>...</td>\n",
       "      <td>NaN</td>\n",
       "      <td>NaN</td>\n",
       "      <td>NaN</td>\n",
       "      <td>NaN</td>\n",
       "      <td>2013-05-13T22:00:00Z</td>\n",
       "      <td>2016-12-02T10:25:58Z</td>\n",
       "      <td>2332459.0</td>\n",
       "      <td>NaN</td>\n",
       "      <td>NaN</td>\n",
       "      <td>POINT(3.32214 6.57853)</td>\n",
       "    </tr>\n",
       "    <tr>\n",
       "      <th>2</th>\n",
       "      <td>POINT(6.01528 9.10347)</td>\n",
       "      <td>Bida</td>\n",
       "      <td>Bida Airport</td>\n",
       "      <td>NaN</td>\n",
       "      <td>Bida</td>\n",
       "      <td>DNBI</td>\n",
       "      <td>NaN</td>\n",
       "      <td>Airstrip</td>\n",
       "      <td>Domestic</td>\n",
       "      <td>Civil</td>\n",
       "      <td>...</td>\n",
       "      <td>NaN</td>\n",
       "      <td>NaN</td>\n",
       "      <td>NaN</td>\n",
       "      <td>NaN</td>\n",
       "      <td>2013-05-13T22:00:00Z</td>\n",
       "      <td>2016-12-02T10:25:58Z</td>\n",
       "      <td>2347209.0</td>\n",
       "      <td>NaN</td>\n",
       "      <td>NaN</td>\n",
       "      <td>POINT(6.01528 9.10347)</td>\n",
       "    </tr>\n",
       "    <tr>\n",
       "      <th>3</th>\n",
       "      <td>POINT(4.48545 9.89267)</td>\n",
       "      <td>Kainji</td>\n",
       "      <td>Kainji</td>\n",
       "      <td>NaN</td>\n",
       "      <td>NaN</td>\n",
       "      <td>DNIX</td>\n",
       "      <td>NaN</td>\n",
       "      <td>Airfield</td>\n",
       "      <td>Domestic</td>\n",
       "      <td>Military</td>\n",
       "      <td>...</td>\n",
       "      <td>NaN</td>\n",
       "      <td>NaN</td>\n",
       "      <td>NaN</td>\n",
       "      <td>NaN</td>\n",
       "      <td>2013-05-13T22:00:00Z</td>\n",
       "      <td>2016-12-02T10:25:58Z</td>\n",
       "      <td>NaN</td>\n",
       "      <td>NaN</td>\n",
       "      <td>NaN</td>\n",
       "      <td>POINT(4.48545 9.89267)</td>\n",
       "    </tr>\n",
       "    <tr>\n",
       "      <th>4</th>\n",
       "      <td>POINT(7.66 13.008)</td>\n",
       "      <td>Katsina</td>\n",
       "      <td>Katsina</td>\n",
       "      <td>NaN</td>\n",
       "      <td>Katsina</td>\n",
       "      <td>NaN</td>\n",
       "      <td>NaN</td>\n",
       "      <td>Airfield</td>\n",
       "      <td>Domestic</td>\n",
       "      <td>Civil</td>\n",
       "      <td>...</td>\n",
       "      <td>NaN</td>\n",
       "      <td>NaN</td>\n",
       "      <td>NaN</td>\n",
       "      <td>NaN</td>\n",
       "      <td>2013-05-13T22:00:00Z</td>\n",
       "      <td>2016-12-02T10:25:58Z</td>\n",
       "      <td>2334802.0</td>\n",
       "      <td>NaN</td>\n",
       "      <td>NaN</td>\n",
       "      <td>POINT(7.66 13.008)</td>\n",
       "    </tr>\n",
       "  </tbody>\n",
       "</table>\n",
       "<p>5 rows × 35 columns</p>\n",
       "</div>"
      ],
      "text/plain": [
       "                    location         nameshort            namelong namealt  \\\n",
       "0  POINT(-85.295502 9.81112)        La Javilla  La Javilla Airport     NaN   \n",
       "1     POINT(3.32214 6.57853)  Murtala Muhammed    Murtala Muhammed     NaN   \n",
       "2     POINT(6.01528 9.10347)              Bida        Bida Airport     NaN   \n",
       "3     POINT(4.48545 9.89267)            Kainji              Kainji     NaN   \n",
       "4         POINT(7.66 13.008)           Katsina             Katsina     NaN   \n",
       "\n",
       "      city  icao iata   apttype       aptclass       authority  ...  \\\n",
       "0           MLLJ       Airstrip    Unspecified                  ...   \n",
       "1    Lagos  DNMM  LOS   Airport  International  Civil/Military  ...   \n",
       "2     Bida  DNBI  NaN  Airstrip       Domestic           Civil  ...   \n",
       "3      NaN  DNIX  NaN  Airfield       Domestic        Military  ...   \n",
       "4  Katsina   NaN  NaN  Airfield       Domestic           Civil  ...   \n",
       "\n",
       "          lastcheckdate remarks url_lca  source            createdate  \\\n",
       "0  2018-05-10T22:00:00Z     NaN     NaN     NaN  2018-05-10T22:00:00Z   \n",
       "1                   NaN     NaN     NaN     NaN  2013-05-13T22:00:00Z   \n",
       "2                   NaN     NaN     NaN     NaN  2013-05-13T22:00:00Z   \n",
       "3                   NaN     NaN     NaN     NaN  2013-05-13T22:00:00Z   \n",
       "4                   NaN     NaN     NaN     NaN  2013-05-13T22:00:00Z   \n",
       "\n",
       "                 updatedate  geonameid gdb_geomattr_data rwwidthm  \\\n",
       "0  2018-05-12T09:30:14.627Z  3623378.0               NaN      NaN   \n",
       "1      2016-12-02T10:25:58Z  2332459.0               NaN      NaN   \n",
       "2      2016-12-02T10:25:58Z  2347209.0               NaN      NaN   \n",
       "3      2016-12-02T10:25:58Z        NaN               NaN      NaN   \n",
       "4      2016-12-02T10:25:58Z  2334802.0               NaN      NaN   \n",
       "\n",
       "                location_2  \n",
       "0  POINT(-85.2955 9.81112)  \n",
       "1   POINT(3.32214 6.57853)  \n",
       "2   POINT(6.01528 9.10347)  \n",
       "3   POINT(4.48545 9.89267)  \n",
       "4       POINT(7.66 13.008)  \n",
       "\n",
       "[5 rows x 35 columns]"
      ]
     },
     "execution_count": 802,
     "metadata": {},
     "output_type": "execute_result"
    }
   ],
   "source": [
    "df.head()"
   ]
  },
  {
   "cell_type": "code",
   "execution_count": 803,
   "id": "8b7c77c6",
   "metadata": {},
   "outputs": [
    {
     "data": {
      "text/html": [
       "<div>\n",
       "<style scoped>\n",
       "    .dataframe tbody tr th:only-of-type {\n",
       "        vertical-align: middle;\n",
       "    }\n",
       "\n",
       "    .dataframe tbody tr th {\n",
       "        vertical-align: top;\n",
       "    }\n",
       "\n",
       "    .dataframe thead th {\n",
       "        text-align: right;\n",
       "    }\n",
       "</style>\n",
       "<table border=\"1\" class=\"dataframe\">\n",
       "  <thead>\n",
       "    <tr style=\"text-align: right;\">\n",
       "      <th></th>\n",
       "      <th>location</th>\n",
       "      <th>nameshort</th>\n",
       "      <th>namelong</th>\n",
       "      <th>namealt</th>\n",
       "      <th>city</th>\n",
       "      <th>icao</th>\n",
       "      <th>iata</th>\n",
       "      <th>apttype</th>\n",
       "      <th>aptclass</th>\n",
       "      <th>authority</th>\n",
       "      <th>...</th>\n",
       "      <th>lastcheckdate</th>\n",
       "      <th>remarks</th>\n",
       "      <th>url_lca</th>\n",
       "      <th>source</th>\n",
       "      <th>createdate</th>\n",
       "      <th>updatedate</th>\n",
       "      <th>geonameid</th>\n",
       "      <th>gdb_geomattr_data</th>\n",
       "      <th>rwwidthm</th>\n",
       "      <th>location_2</th>\n",
       "    </tr>\n",
       "  </thead>\n",
       "  <tbody>\n",
       "    <tr>\n",
       "      <th>6442</th>\n",
       "      <td>POINT(-83.735446 9.157537)</td>\n",
       "      <td>Papa Kilo</td>\n",
       "      <td>Papa Kilo Airport</td>\n",
       "      <td>NaN</td>\n",
       "      <td></td>\n",
       "      <td>MRPK</td>\n",
       "      <td></td>\n",
       "      <td>Airstrip</td>\n",
       "      <td>Unspecified</td>\n",
       "      <td></td>\n",
       "      <td>...</td>\n",
       "      <td>2018-05-10T22:00:00Z</td>\n",
       "      <td>NaN</td>\n",
       "      <td>NaN</td>\n",
       "      <td>NaN</td>\n",
       "      <td>2018-05-10T22:00:00Z</td>\n",
       "      <td>2018-05-16T08:45:50.249Z</td>\n",
       "      <td>999999999.0</td>\n",
       "      <td>NaN</td>\n",
       "      <td>NaN</td>\n",
       "      <td>POINT(-83.73545 9.15754)</td>\n",
       "    </tr>\n",
       "    <tr>\n",
       "      <th>6443</th>\n",
       "      <td>POINT(-83.5149 10.569)</td>\n",
       "      <td>Barra del To</td>\n",
       "      <td>Barra del Tortuguero</td>\n",
       "      <td>NaN</td>\n",
       "      <td></td>\n",
       "      <td>MRBT</td>\n",
       "      <td></td>\n",
       "      <td>Airstrip</td>\n",
       "      <td>Unspecified</td>\n",
       "      <td></td>\n",
       "      <td>...</td>\n",
       "      <td>2018-05-10T22:00:00Z</td>\n",
       "      <td>NaN</td>\n",
       "      <td>NaN</td>\n",
       "      <td>NaN</td>\n",
       "      <td>2018-05-10T22:00:00Z</td>\n",
       "      <td>2018-05-16T08:57:34.864Z</td>\n",
       "      <td>999999999.0</td>\n",
       "      <td>NaN</td>\n",
       "      <td>NaN</td>\n",
       "      <td>POINT(-83.5149 10.569)</td>\n",
       "    </tr>\n",
       "    <tr>\n",
       "      <th>6444</th>\n",
       "      <td>POINT(-84.209 9.457777)</td>\n",
       "      <td>Aerodamas</td>\n",
       "      <td>Aerodamas Airport</td>\n",
       "      <td>NaN</td>\n",
       "      <td></td>\n",
       "      <td>MRAD</td>\n",
       "      <td></td>\n",
       "      <td>Airstrip</td>\n",
       "      <td>Unspecified</td>\n",
       "      <td></td>\n",
       "      <td>...</td>\n",
       "      <td>2018-05-10T22:00:00Z</td>\n",
       "      <td>NaN</td>\n",
       "      <td>NaN</td>\n",
       "      <td>NaN</td>\n",
       "      <td>2018-05-10T22:00:00Z</td>\n",
       "      <td>2018-05-16T09:11:20.027Z</td>\n",
       "      <td>999999999.0</td>\n",
       "      <td>NaN</td>\n",
       "      <td>NaN</td>\n",
       "      <td>POINT(-84.209 9.45778)</td>\n",
       "    </tr>\n",
       "    <tr>\n",
       "      <th>6445</th>\n",
       "      <td>POINT(-83.432999 8.64999)</td>\n",
       "      <td>Playa Blanca (J. W. Berteus)</td>\n",
       "      <td>Playa Blanca (J. W. Berteus) Airport</td>\n",
       "      <td>NaN</td>\n",
       "      <td></td>\n",
       "      <td>MRPB</td>\n",
       "      <td></td>\n",
       "      <td>Airstrip</td>\n",
       "      <td>Unspecified</td>\n",
       "      <td></td>\n",
       "      <td>...</td>\n",
       "      <td>2018-05-10T22:00:00Z</td>\n",
       "      <td>NaN</td>\n",
       "      <td>NaN</td>\n",
       "      <td>NaN</td>\n",
       "      <td>2018-05-10T22:00:00Z</td>\n",
       "      <td>2018-05-16T09:23:03.455Z</td>\n",
       "      <td>999999999.0</td>\n",
       "      <td>NaN</td>\n",
       "      <td>NaN</td>\n",
       "      <td>POINT(-83.433 8.64999)</td>\n",
       "    </tr>\n",
       "    <tr>\n",
       "      <th>6446</th>\n",
       "      <td>POINT(-85.016197 10.8922)</td>\n",
       "      <td>Upala</td>\n",
       "      <td>Upala Airport</td>\n",
       "      <td>NaN</td>\n",
       "      <td>Upala</td>\n",
       "      <td>MRUP</td>\n",
       "      <td>UPL</td>\n",
       "      <td>Airport</td>\n",
       "      <td>Domestic</td>\n",
       "      <td></td>\n",
       "      <td>...</td>\n",
       "      <td>2018-05-10T22:00:00Z</td>\n",
       "      <td>NaN</td>\n",
       "      <td>NaN</td>\n",
       "      <td>NaN</td>\n",
       "      <td>2018-05-10T22:00:00Z</td>\n",
       "      <td>2018-05-14T07:51:58.996Z</td>\n",
       "      <td>7730115.0</td>\n",
       "      <td>NaN</td>\n",
       "      <td>12.0</td>\n",
       "      <td>POINT(-85.0162 10.8922)</td>\n",
       "    </tr>\n",
       "  </tbody>\n",
       "</table>\n",
       "<p>5 rows × 35 columns</p>\n",
       "</div>"
      ],
      "text/plain": [
       "                        location                     nameshort  \\\n",
       "6442  POINT(-83.735446 9.157537)                     Papa Kilo   \n",
       "6443      POINT(-83.5149 10.569)                  Barra del To   \n",
       "6444     POINT(-84.209 9.457777)                     Aerodamas   \n",
       "6445   POINT(-83.432999 8.64999)  Playa Blanca (J. W. Berteus)   \n",
       "6446   POINT(-85.016197 10.8922)                         Upala   \n",
       "\n",
       "                                  namelong namealt   city  icao iata  \\\n",
       "6442                     Papa Kilo Airport     NaN         MRPK        \n",
       "6443                  Barra del Tortuguero     NaN         MRBT        \n",
       "6444                     Aerodamas Airport     NaN         MRAD        \n",
       "6445  Playa Blanca (J. W. Berteus) Airport     NaN         MRPB        \n",
       "6446                         Upala Airport     NaN  Upala  MRUP  UPL   \n",
       "\n",
       "       apttype     aptclass authority  ...         lastcheckdate remarks  \\\n",
       "6442  Airstrip  Unspecified            ...  2018-05-10T22:00:00Z     NaN   \n",
       "6443  Airstrip  Unspecified            ...  2018-05-10T22:00:00Z     NaN   \n",
       "6444  Airstrip  Unspecified            ...  2018-05-10T22:00:00Z     NaN   \n",
       "6445  Airstrip  Unspecified            ...  2018-05-10T22:00:00Z     NaN   \n",
       "6446   Airport     Domestic            ...  2018-05-10T22:00:00Z     NaN   \n",
       "\n",
       "     url_lca  source            createdate                updatedate  \\\n",
       "6442     NaN     NaN  2018-05-10T22:00:00Z  2018-05-16T08:45:50.249Z   \n",
       "6443     NaN     NaN  2018-05-10T22:00:00Z  2018-05-16T08:57:34.864Z   \n",
       "6444     NaN     NaN  2018-05-10T22:00:00Z  2018-05-16T09:11:20.027Z   \n",
       "6445     NaN     NaN  2018-05-10T22:00:00Z  2018-05-16T09:23:03.455Z   \n",
       "6446     NaN     NaN  2018-05-10T22:00:00Z  2018-05-14T07:51:58.996Z   \n",
       "\n",
       "        geonameid gdb_geomattr_data rwwidthm                location_2  \n",
       "6442  999999999.0               NaN      NaN  POINT(-83.73545 9.15754)  \n",
       "6443  999999999.0               NaN      NaN    POINT(-83.5149 10.569)  \n",
       "6444  999999999.0               NaN      NaN    POINT(-84.209 9.45778)  \n",
       "6445  999999999.0               NaN      NaN    POINT(-83.433 8.64999)  \n",
       "6446    7730115.0               NaN     12.0   POINT(-85.0162 10.8922)  \n",
       "\n",
       "[5 rows x 35 columns]"
      ]
     },
     "execution_count": 803,
     "metadata": {},
     "output_type": "execute_result"
    }
   ],
   "source": [
    "df.tail()"
   ]
  },
  {
   "cell_type": "markdown",
   "id": "cfe51e55",
   "metadata": {},
   "source": [
    "### Pre-prosessing Data"
   ]
  },
  {
   "cell_type": "markdown",
   "id": "1be52093",
   "metadata": {},
   "source": [
    "###### Spearating data between numeric and catagoric"
   ]
  },
  {
   "cell_type": "code",
   "execution_count": 804,
   "id": "811e5348",
   "metadata": {},
   "outputs": [
    {
     "data": {
      "text/plain": [
       "6447"
      ]
     },
     "execution_count": 804,
     "metadata": {},
     "output_type": "execute_result"
    }
   ],
   "source": [
    "len(df)"
   ]
  },
  {
   "cell_type": "code",
   "execution_count": 805,
   "id": "5837fbf3",
   "metadata": {},
   "outputs": [
    {
     "data": {
      "text/plain": [
       "35"
      ]
     },
     "execution_count": 805,
     "metadata": {},
     "output_type": "execute_result"
    }
   ],
   "source": [
    "len(df.columns)"
   ]
  },
  {
   "cell_type": "code",
   "execution_count": 806,
   "id": "20d4d900",
   "metadata": {},
   "outputs": [
    {
     "data": {
      "text/plain": [
       "location              object\n",
       "nameshort             object\n",
       "namelong              object\n",
       "namealt               object\n",
       "city                  object\n",
       "icao                  object\n",
       "iata                  object\n",
       "apttype               object\n",
       "aptclass              object\n",
       "authority             object\n",
       "status                object\n",
       "dmg                   object\n",
       "rwpaved               object\n",
       "rwlengthm            float64\n",
       "rwlengthf            float64\n",
       "elevm                float64\n",
       "elevf                float64\n",
       "humuse                object\n",
       "humoperatedby         object\n",
       "locprecision          object\n",
       "latitude             float64\n",
       "longitude            float64\n",
       "iso3                  object\n",
       "iso3_op               object\n",
       "country               object\n",
       "lastcheckdate         object\n",
       "remarks               object\n",
       "url_lca               object\n",
       "source                object\n",
       "createdate            object\n",
       "updatedate            object\n",
       "geonameid            float64\n",
       "gdb_geomattr_data    float64\n",
       "rwwidthm             float64\n",
       "location_2            object\n",
       "dtype: object"
      ]
     },
     "execution_count": 806,
     "metadata": {},
     "output_type": "execute_result"
    }
   ],
   "source": [
    "df.dtypes"
   ]
  },
  {
   "cell_type": "code",
   "execution_count": 807,
   "id": "49562510",
   "metadata": {},
   "outputs": [],
   "source": [
    "categorical_variables = df.select_dtypes(include=['object']).columns\n",
    "numerical_variables = df.select_dtypes(exclude=['object']).columns"
   ]
  },
  {
   "cell_type": "code",
   "execution_count": 808,
   "id": "3c4d2b6f",
   "metadata": {},
   "outputs": [
    {
     "data": {
      "text/plain": [
       "Index(['location', 'nameshort', 'namelong', 'namealt', 'city', 'icao', 'iata',\n",
       "       'apttype', 'aptclass', 'authority', 'status', 'dmg', 'rwpaved',\n",
       "       'humuse', 'humoperatedby', 'locprecision', 'iso3', 'iso3_op', 'country',\n",
       "       'lastcheckdate', 'remarks', 'url_lca', 'source', 'createdate',\n",
       "       'updatedate', 'location_2'],\n",
       "      dtype='object')"
      ]
     },
     "execution_count": 808,
     "metadata": {},
     "output_type": "execute_result"
    }
   ],
   "source": [
    "categorical_variables"
   ]
  },
  {
   "cell_type": "code",
   "execution_count": 809,
   "id": "23b8d453",
   "metadata": {},
   "outputs": [
    {
     "data": {
      "text/plain": [
       "Index(['rwlengthm', 'rwlengthf', 'elevm', 'elevf', 'latitude', 'longitude',\n",
       "       'geonameid', 'gdb_geomattr_data', 'rwwidthm'],\n",
       "      dtype='object')"
      ]
     },
     "execution_count": 809,
     "metadata": {},
     "output_type": "execute_result"
    }
   ],
   "source": [
    "numerical_variables"
   ]
  },
  {
   "cell_type": "code",
   "execution_count": 810,
   "id": "6af68296",
   "metadata": {},
   "outputs": [
    {
     "name": "stdout",
     "output_type": "stream",
     "text": [
      "<class 'pandas.core.frame.DataFrame'>\n",
      "RangeIndex: 6447 entries, 0 to 6446\n",
      "Data columns (total 35 columns):\n",
      " #   Column             Non-Null Count  Dtype  \n",
      "---  ------             --------------  -----  \n",
      " 0   location           6437 non-null   object \n",
      " 1   nameshort          6394 non-null   object \n",
      " 2   namelong           6391 non-null   object \n",
      " 3   namealt            171 non-null    object \n",
      " 4   city               3828 non-null   object \n",
      " 5   icao               3649 non-null   object \n",
      " 6   iata               2746 non-null   object \n",
      " 7   apttype            6439 non-null   object \n",
      " 8   aptclass           6439 non-null   object \n",
      " 9   authority          6428 non-null   object \n",
      " 10  status             6442 non-null   object \n",
      " 11  dmg                6381 non-null   object \n",
      " 12  rwpaved            6440 non-null   object \n",
      " 13  rwlengthm          1149 non-null   float64\n",
      " 14  rwlengthf          1096 non-null   float64\n",
      " 15  elevm              2861 non-null   float64\n",
      " 16  elevf              2907 non-null   float64\n",
      " 17  humuse             6369 non-null   object \n",
      " 18  humoperatedby      511 non-null    object \n",
      " 19  locprecision       6307 non-null   object \n",
      " 20  latitude           6447 non-null   float64\n",
      " 21  longitude          6447 non-null   float64\n",
      " 22  iso3               6406 non-null   object \n",
      " 23  iso3_op            4448 non-null   object \n",
      " 24  country            6402 non-null   object \n",
      " 25  lastcheckdate      2574 non-null   object \n",
      " 26  remarks            346 non-null    object \n",
      " 27  url_lca            7 non-null      object \n",
      " 28  source             2374 non-null   object \n",
      " 29  createdate         6447 non-null   object \n",
      " 30  updatedate         6447 non-null   object \n",
      " 31  geonameid          5053 non-null   float64\n",
      " 32  gdb_geomattr_data  0 non-null      float64\n",
      " 33  rwwidthm           144 non-null    float64\n",
      " 34  location_2         6447 non-null   object \n",
      "dtypes: float64(9), object(26)\n",
      "memory usage: 1.7+ MB\n"
     ]
    }
   ],
   "source": [
    "df.info()"
   ]
  },
  {
   "cell_type": "code",
   "execution_count": 811,
   "id": "240dd7be",
   "metadata": {},
   "outputs": [
    {
     "data": {
      "text/plain": [
       "rwlengthm            5298\n",
       "rwlengthf            5351\n",
       "elevm                3586\n",
       "elevf                3540\n",
       "latitude                0\n",
       "longitude               0\n",
       "geonameid            1394\n",
       "gdb_geomattr_data    6447\n",
       "rwwidthm             6303\n",
       "dtype: int64"
      ]
     },
     "execution_count": 811,
     "metadata": {},
     "output_type": "execute_result"
    }
   ],
   "source": [
    "df.select_dtypes(exclude=['object']).isnull().sum()"
   ]
  },
  {
   "cell_type": "markdown",
   "id": "d8c8ba03",
   "metadata": {},
   "source": [
    "##### Cleaning numeric  value"
   ]
  },
  {
   "cell_type": "code",
   "execution_count": 812,
   "id": "3c5d9c9b",
   "metadata": {},
   "outputs": [],
   "source": [
    "df_numneric = df[['latitude','longitude','geonameid']]"
   ]
  },
  {
   "cell_type": "code",
   "execution_count": 813,
   "id": "46687949",
   "metadata": {},
   "outputs": [
    {
     "data": {
      "text/html": [
       "<div>\n",
       "<style scoped>\n",
       "    .dataframe tbody tr th:only-of-type {\n",
       "        vertical-align: middle;\n",
       "    }\n",
       "\n",
       "    .dataframe tbody tr th {\n",
       "        vertical-align: top;\n",
       "    }\n",
       "\n",
       "    .dataframe thead th {\n",
       "        text-align: right;\n",
       "    }\n",
       "</style>\n",
       "<table border=\"1\" class=\"dataframe\">\n",
       "  <thead>\n",
       "    <tr style=\"text-align: right;\">\n",
       "      <th></th>\n",
       "      <th>latitude</th>\n",
       "      <th>longitude</th>\n",
       "      <th>geonameid</th>\n",
       "    </tr>\n",
       "  </thead>\n",
       "  <tbody>\n",
       "    <tr>\n",
       "      <th>0</th>\n",
       "      <td>9.81112</td>\n",
       "      <td>-85.29550</td>\n",
       "      <td>3623378.0</td>\n",
       "    </tr>\n",
       "    <tr>\n",
       "      <th>1</th>\n",
       "      <td>6.57853</td>\n",
       "      <td>3.32214</td>\n",
       "      <td>2332459.0</td>\n",
       "    </tr>\n",
       "    <tr>\n",
       "      <th>2</th>\n",
       "      <td>9.10347</td>\n",
       "      <td>6.01528</td>\n",
       "      <td>2347209.0</td>\n",
       "    </tr>\n",
       "    <tr>\n",
       "      <th>3</th>\n",
       "      <td>9.89267</td>\n",
       "      <td>4.48545</td>\n",
       "      <td>NaN</td>\n",
       "    </tr>\n",
       "    <tr>\n",
       "      <th>4</th>\n",
       "      <td>13.00800</td>\n",
       "      <td>7.66000</td>\n",
       "      <td>2334802.0</td>\n",
       "    </tr>\n",
       "  </tbody>\n",
       "</table>\n",
       "</div>"
      ],
      "text/plain": [
       "   latitude  longitude  geonameid\n",
       "0   9.81112  -85.29550  3623378.0\n",
       "1   6.57853    3.32214  2332459.0\n",
       "2   9.10347    6.01528  2347209.0\n",
       "3   9.89267    4.48545        NaN\n",
       "4  13.00800    7.66000  2334802.0"
      ]
     },
     "execution_count": 813,
     "metadata": {},
     "output_type": "execute_result"
    }
   ],
   "source": [
    "df_numneric.head()"
   ]
  },
  {
   "cell_type": "code",
   "execution_count": 814,
   "id": "900519b3",
   "metadata": {},
   "outputs": [
    {
     "data": {
      "text/html": [
       "<div>\n",
       "<style scoped>\n",
       "    .dataframe tbody tr th:only-of-type {\n",
       "        vertical-align: middle;\n",
       "    }\n",
       "\n",
       "    .dataframe tbody tr th {\n",
       "        vertical-align: top;\n",
       "    }\n",
       "\n",
       "    .dataframe thead th {\n",
       "        text-align: right;\n",
       "    }\n",
       "</style>\n",
       "<table border=\"1\" class=\"dataframe\">\n",
       "  <thead>\n",
       "    <tr style=\"text-align: right;\">\n",
       "      <th></th>\n",
       "      <th>latitude</th>\n",
       "      <th>longitude</th>\n",
       "      <th>geonameid</th>\n",
       "    </tr>\n",
       "  </thead>\n",
       "  <tbody>\n",
       "    <tr>\n",
       "      <th>count</th>\n",
       "      <td>6447.000000</td>\n",
       "      <td>6447.000000</td>\n",
       "      <td>5.053000e+03</td>\n",
       "    </tr>\n",
       "    <tr>\n",
       "      <th>mean</th>\n",
       "      <td>10.718928</td>\n",
       "      <td>22.391984</td>\n",
       "      <td>5.601906e+07</td>\n",
       "    </tr>\n",
       "    <tr>\n",
       "      <th>std</th>\n",
       "      <td>20.705912</td>\n",
       "      <td>78.283088</td>\n",
       "      <td>2.269316e+08</td>\n",
       "    </tr>\n",
       "    <tr>\n",
       "      <th>min</th>\n",
       "      <td>-54.931070</td>\n",
       "      <td>-179.876790</td>\n",
       "      <td>0.000000e+00</td>\n",
       "    </tr>\n",
       "    <tr>\n",
       "      <th>25%</th>\n",
       "      <td>-3.994250</td>\n",
       "      <td>-66.835000</td>\n",
       "      <td>9.785500e+04</td>\n",
       "    </tr>\n",
       "    <tr>\n",
       "      <th>50%</th>\n",
       "      <td>9.006390</td>\n",
       "      <td>29.617170</td>\n",
       "      <td>1.127110e+06</td>\n",
       "    </tr>\n",
       "    <tr>\n",
       "      <th>75%</th>\n",
       "      <td>25.987590</td>\n",
       "      <td>73.803920</td>\n",
       "      <td>2.460755e+06</td>\n",
       "    </tr>\n",
       "    <tr>\n",
       "      <th>max</th>\n",
       "      <td>82.521730</td>\n",
       "      <td>179.950970</td>\n",
       "      <td>1.000000e+09</td>\n",
       "    </tr>\n",
       "  </tbody>\n",
       "</table>\n",
       "</div>"
      ],
      "text/plain": [
       "          latitude    longitude     geonameid\n",
       "count  6447.000000  6447.000000  5.053000e+03\n",
       "mean     10.718928    22.391984  5.601906e+07\n",
       "std      20.705912    78.283088  2.269316e+08\n",
       "min     -54.931070  -179.876790  0.000000e+00\n",
       "25%      -3.994250   -66.835000  9.785500e+04\n",
       "50%       9.006390    29.617170  1.127110e+06\n",
       "75%      25.987590    73.803920  2.460755e+06\n",
       "max      82.521730   179.950970  1.000000e+09"
      ]
     },
     "execution_count": 814,
     "metadata": {},
     "output_type": "execute_result"
    }
   ],
   "source": [
    "df_numneric.describe()"
   ]
  },
  {
   "cell_type": "code",
   "execution_count": null,
   "id": "8390aac7",
   "metadata": {},
   "outputs": [],
   "source": []
  },
  {
   "cell_type": "code",
   "execution_count": 815,
   "id": "bfff7695",
   "metadata": {},
   "outputs": [],
   "source": [
    "mean_value = df_numneric['geonameid'].mean()\n",
    "df_numneric['geonameid'].fillna(mean_value, inplace=True)"
   ]
  },
  {
   "cell_type": "code",
   "execution_count": 816,
   "id": "a14027a9",
   "metadata": {},
   "outputs": [
    {
     "data": {
      "text/html": [
       "<div>\n",
       "<style scoped>\n",
       "    .dataframe tbody tr th:only-of-type {\n",
       "        vertical-align: middle;\n",
       "    }\n",
       "\n",
       "    .dataframe tbody tr th {\n",
       "        vertical-align: top;\n",
       "    }\n",
       "\n",
       "    .dataframe thead th {\n",
       "        text-align: right;\n",
       "    }\n",
       "</style>\n",
       "<table border=\"1\" class=\"dataframe\">\n",
       "  <thead>\n",
       "    <tr style=\"text-align: right;\">\n",
       "      <th></th>\n",
       "      <th>latitude</th>\n",
       "      <th>longitude</th>\n",
       "      <th>geonameid</th>\n",
       "    </tr>\n",
       "  </thead>\n",
       "  <tbody>\n",
       "    <tr>\n",
       "      <th>0</th>\n",
       "      <td>9.81112</td>\n",
       "      <td>-85.29550</td>\n",
       "      <td>3.623378e+06</td>\n",
       "    </tr>\n",
       "    <tr>\n",
       "      <th>1</th>\n",
       "      <td>6.57853</td>\n",
       "      <td>3.32214</td>\n",
       "      <td>2.332459e+06</td>\n",
       "    </tr>\n",
       "    <tr>\n",
       "      <th>2</th>\n",
       "      <td>9.10347</td>\n",
       "      <td>6.01528</td>\n",
       "      <td>2.347209e+06</td>\n",
       "    </tr>\n",
       "    <tr>\n",
       "      <th>3</th>\n",
       "      <td>9.89267</td>\n",
       "      <td>4.48545</td>\n",
       "      <td>5.601906e+07</td>\n",
       "    </tr>\n",
       "    <tr>\n",
       "      <th>4</th>\n",
       "      <td>13.00800</td>\n",
       "      <td>7.66000</td>\n",
       "      <td>2.334802e+06</td>\n",
       "    </tr>\n",
       "    <tr>\n",
       "      <th>...</th>\n",
       "      <td>...</td>\n",
       "      <td>...</td>\n",
       "      <td>...</td>\n",
       "    </tr>\n",
       "    <tr>\n",
       "      <th>6442</th>\n",
       "      <td>9.15754</td>\n",
       "      <td>-83.73545</td>\n",
       "      <td>1.000000e+09</td>\n",
       "    </tr>\n",
       "    <tr>\n",
       "      <th>6443</th>\n",
       "      <td>10.56900</td>\n",
       "      <td>-83.51490</td>\n",
       "      <td>1.000000e+09</td>\n",
       "    </tr>\n",
       "    <tr>\n",
       "      <th>6444</th>\n",
       "      <td>9.45778</td>\n",
       "      <td>-84.20900</td>\n",
       "      <td>1.000000e+09</td>\n",
       "    </tr>\n",
       "    <tr>\n",
       "      <th>6445</th>\n",
       "      <td>8.64999</td>\n",
       "      <td>-83.43300</td>\n",
       "      <td>1.000000e+09</td>\n",
       "    </tr>\n",
       "    <tr>\n",
       "      <th>6446</th>\n",
       "      <td>10.89220</td>\n",
       "      <td>-85.01620</td>\n",
       "      <td>7.730115e+06</td>\n",
       "    </tr>\n",
       "  </tbody>\n",
       "</table>\n",
       "<p>6447 rows × 3 columns</p>\n",
       "</div>"
      ],
      "text/plain": [
       "      latitude  longitude     geonameid\n",
       "0      9.81112  -85.29550  3.623378e+06\n",
       "1      6.57853    3.32214  2.332459e+06\n",
       "2      9.10347    6.01528  2.347209e+06\n",
       "3      9.89267    4.48545  5.601906e+07\n",
       "4     13.00800    7.66000  2.334802e+06\n",
       "...        ...        ...           ...\n",
       "6442   9.15754  -83.73545  1.000000e+09\n",
       "6443  10.56900  -83.51490  1.000000e+09\n",
       "6444   9.45778  -84.20900  1.000000e+09\n",
       "6445   8.64999  -83.43300  1.000000e+09\n",
       "6446  10.89220  -85.01620  7.730115e+06\n",
       "\n",
       "[6447 rows x 3 columns]"
      ]
     },
     "execution_count": 816,
     "metadata": {},
     "output_type": "execute_result"
    }
   ],
   "source": [
    "df_numneric"
   ]
  },
  {
   "cell_type": "markdown",
   "id": "87ee1219",
   "metadata": {},
   "source": [
    "##### Cleaning catagoric  features"
   ]
  },
  {
   "cell_type": "code",
   "execution_count": 817,
   "id": "a0726c7c",
   "metadata": {},
   "outputs": [
    {
     "data": {
      "text/plain": [
       "location           10\n",
       "nameshort          53\n",
       "namelong           56\n",
       "namealt          6276\n",
       "city             2619\n",
       "icao             2798\n",
       "iata             3701\n",
       "apttype             8\n",
       "aptclass            8\n",
       "authority          19\n",
       "status              5\n",
       "dmg                66\n",
       "rwpaved             7\n",
       "humuse             78\n",
       "humoperatedby    5936\n",
       "locprecision      140\n",
       "iso3               41\n",
       "iso3_op          1999\n",
       "country            45\n",
       "lastcheckdate    3873\n",
       "remarks          6101\n",
       "url_lca          6440\n",
       "source           4073\n",
       "createdate          0\n",
       "updatedate          0\n",
       "location_2          0\n",
       "dtype: int64"
      ]
     },
     "execution_count": 817,
     "metadata": {},
     "output_type": "execute_result"
    }
   ],
   "source": [
    "df.select_dtypes(include=['object']).isnull().sum()"
   ]
  },
  {
   "cell_type": "code",
   "execution_count": 818,
   "id": "4042e381",
   "metadata": {},
   "outputs": [],
   "source": [
    "df_catagoric = df.select_dtypes(include=['object'])"
   ]
  },
  {
   "cell_type": "code",
   "execution_count": 819,
   "id": "eef54105",
   "metadata": {},
   "outputs": [
    {
     "data": {
      "text/html": [
       "<div>\n",
       "<style scoped>\n",
       "    .dataframe tbody tr th:only-of-type {\n",
       "        vertical-align: middle;\n",
       "    }\n",
       "\n",
       "    .dataframe tbody tr th {\n",
       "        vertical-align: top;\n",
       "    }\n",
       "\n",
       "    .dataframe thead th {\n",
       "        text-align: right;\n",
       "    }\n",
       "</style>\n",
       "<table border=\"1\" class=\"dataframe\">\n",
       "  <thead>\n",
       "    <tr style=\"text-align: right;\">\n",
       "      <th></th>\n",
       "      <th>location</th>\n",
       "      <th>nameshort</th>\n",
       "      <th>namelong</th>\n",
       "      <th>namealt</th>\n",
       "      <th>city</th>\n",
       "      <th>icao</th>\n",
       "      <th>iata</th>\n",
       "      <th>apttype</th>\n",
       "      <th>aptclass</th>\n",
       "      <th>authority</th>\n",
       "      <th>...</th>\n",
       "      <th>iso3</th>\n",
       "      <th>iso3_op</th>\n",
       "      <th>country</th>\n",
       "      <th>lastcheckdate</th>\n",
       "      <th>remarks</th>\n",
       "      <th>url_lca</th>\n",
       "      <th>source</th>\n",
       "      <th>createdate</th>\n",
       "      <th>updatedate</th>\n",
       "      <th>location_2</th>\n",
       "    </tr>\n",
       "  </thead>\n",
       "  <tbody>\n",
       "    <tr>\n",
       "      <th>0</th>\n",
       "      <td>POINT(-85.295502 9.81112)</td>\n",
       "      <td>La Javilla</td>\n",
       "      <td>La Javilla Airport</td>\n",
       "      <td>NaN</td>\n",
       "      <td></td>\n",
       "      <td>MLLJ</td>\n",
       "      <td></td>\n",
       "      <td>Airstrip</td>\n",
       "      <td>Unspecified</td>\n",
       "      <td></td>\n",
       "      <td>...</td>\n",
       "      <td>CRI</td>\n",
       "      <td>CRI</td>\n",
       "      <td>Costa Rica</td>\n",
       "      <td>2018-05-10T22:00:00Z</td>\n",
       "      <td>NaN</td>\n",
       "      <td>NaN</td>\n",
       "      <td>NaN</td>\n",
       "      <td>2018-05-10T22:00:00Z</td>\n",
       "      <td>2018-05-12T09:30:14.627Z</td>\n",
       "      <td>POINT(-85.2955 9.81112)</td>\n",
       "    </tr>\n",
       "    <tr>\n",
       "      <th>1</th>\n",
       "      <td>POINT(3.32214 6.57853)</td>\n",
       "      <td>Murtala Muhammed</td>\n",
       "      <td>Murtala Muhammed</td>\n",
       "      <td>NaN</td>\n",
       "      <td>Lagos</td>\n",
       "      <td>DNMM</td>\n",
       "      <td>LOS</td>\n",
       "      <td>Airport</td>\n",
       "      <td>International</td>\n",
       "      <td>Civil/Military</td>\n",
       "      <td>...</td>\n",
       "      <td>NGA</td>\n",
       "      <td>NaN</td>\n",
       "      <td>Nigeria</td>\n",
       "      <td>NaN</td>\n",
       "      <td>NaN</td>\n",
       "      <td>NaN</td>\n",
       "      <td>NaN</td>\n",
       "      <td>2013-05-13T22:00:00Z</td>\n",
       "      <td>2016-12-02T10:25:58Z</td>\n",
       "      <td>POINT(3.32214 6.57853)</td>\n",
       "    </tr>\n",
       "    <tr>\n",
       "      <th>2</th>\n",
       "      <td>POINT(6.01528 9.10347)</td>\n",
       "      <td>Bida</td>\n",
       "      <td>Bida Airport</td>\n",
       "      <td>NaN</td>\n",
       "      <td>Bida</td>\n",
       "      <td>DNBI</td>\n",
       "      <td>NaN</td>\n",
       "      <td>Airstrip</td>\n",
       "      <td>Domestic</td>\n",
       "      <td>Civil</td>\n",
       "      <td>...</td>\n",
       "      <td>NGA</td>\n",
       "      <td>NaN</td>\n",
       "      <td>Nigeria</td>\n",
       "      <td>NaN</td>\n",
       "      <td>NaN</td>\n",
       "      <td>NaN</td>\n",
       "      <td>NaN</td>\n",
       "      <td>2013-05-13T22:00:00Z</td>\n",
       "      <td>2016-12-02T10:25:58Z</td>\n",
       "      <td>POINT(6.01528 9.10347)</td>\n",
       "    </tr>\n",
       "    <tr>\n",
       "      <th>3</th>\n",
       "      <td>POINT(4.48545 9.89267)</td>\n",
       "      <td>Kainji</td>\n",
       "      <td>Kainji</td>\n",
       "      <td>NaN</td>\n",
       "      <td>NaN</td>\n",
       "      <td>DNIX</td>\n",
       "      <td>NaN</td>\n",
       "      <td>Airfield</td>\n",
       "      <td>Domestic</td>\n",
       "      <td>Military</td>\n",
       "      <td>...</td>\n",
       "      <td>NGA</td>\n",
       "      <td>NaN</td>\n",
       "      <td>Nigeria</td>\n",
       "      <td>NaN</td>\n",
       "      <td>NaN</td>\n",
       "      <td>NaN</td>\n",
       "      <td>NaN</td>\n",
       "      <td>2013-05-13T22:00:00Z</td>\n",
       "      <td>2016-12-02T10:25:58Z</td>\n",
       "      <td>POINT(4.48545 9.89267)</td>\n",
       "    </tr>\n",
       "    <tr>\n",
       "      <th>4</th>\n",
       "      <td>POINT(7.66 13.008)</td>\n",
       "      <td>Katsina</td>\n",
       "      <td>Katsina</td>\n",
       "      <td>NaN</td>\n",
       "      <td>Katsina</td>\n",
       "      <td>NaN</td>\n",
       "      <td>NaN</td>\n",
       "      <td>Airfield</td>\n",
       "      <td>Domestic</td>\n",
       "      <td>Civil</td>\n",
       "      <td>...</td>\n",
       "      <td>NGA</td>\n",
       "      <td>NaN</td>\n",
       "      <td>Nigeria</td>\n",
       "      <td>NaN</td>\n",
       "      <td>NaN</td>\n",
       "      <td>NaN</td>\n",
       "      <td>NaN</td>\n",
       "      <td>2013-05-13T22:00:00Z</td>\n",
       "      <td>2016-12-02T10:25:58Z</td>\n",
       "      <td>POINT(7.66 13.008)</td>\n",
       "    </tr>\n",
       "  </tbody>\n",
       "</table>\n",
       "<p>5 rows × 26 columns</p>\n",
       "</div>"
      ],
      "text/plain": [
       "                    location         nameshort            namelong namealt  \\\n",
       "0  POINT(-85.295502 9.81112)        La Javilla  La Javilla Airport     NaN   \n",
       "1     POINT(3.32214 6.57853)  Murtala Muhammed    Murtala Muhammed     NaN   \n",
       "2     POINT(6.01528 9.10347)              Bida        Bida Airport     NaN   \n",
       "3     POINT(4.48545 9.89267)            Kainji              Kainji     NaN   \n",
       "4         POINT(7.66 13.008)           Katsina             Katsina     NaN   \n",
       "\n",
       "      city  icao iata   apttype       aptclass       authority  ... iso3  \\\n",
       "0           MLLJ       Airstrip    Unspecified                  ...  CRI   \n",
       "1    Lagos  DNMM  LOS   Airport  International  Civil/Military  ...  NGA   \n",
       "2     Bida  DNBI  NaN  Airstrip       Domestic           Civil  ...  NGA   \n",
       "3      NaN  DNIX  NaN  Airfield       Domestic        Military  ...  NGA   \n",
       "4  Katsina   NaN  NaN  Airfield       Domestic           Civil  ...  NGA   \n",
       "\n",
       "  iso3_op     country         lastcheckdate remarks url_lca source  \\\n",
       "0     CRI  Costa Rica  2018-05-10T22:00:00Z     NaN     NaN    NaN   \n",
       "1     NaN     Nigeria                   NaN     NaN     NaN    NaN   \n",
       "2     NaN     Nigeria                   NaN     NaN     NaN    NaN   \n",
       "3     NaN     Nigeria                   NaN     NaN     NaN    NaN   \n",
       "4     NaN     Nigeria                   NaN     NaN     NaN    NaN   \n",
       "\n",
       "             createdate                updatedate               location_2  \n",
       "0  2018-05-10T22:00:00Z  2018-05-12T09:30:14.627Z  POINT(-85.2955 9.81112)  \n",
       "1  2013-05-13T22:00:00Z      2016-12-02T10:25:58Z   POINT(3.32214 6.57853)  \n",
       "2  2013-05-13T22:00:00Z      2016-12-02T10:25:58Z   POINT(6.01528 9.10347)  \n",
       "3  2013-05-13T22:00:00Z      2016-12-02T10:25:58Z   POINT(4.48545 9.89267)  \n",
       "4  2013-05-13T22:00:00Z      2016-12-02T10:25:58Z       POINT(7.66 13.008)  \n",
       "\n",
       "[5 rows x 26 columns]"
      ]
     },
     "execution_count": 819,
     "metadata": {},
     "output_type": "execute_result"
    }
   ],
   "source": [
    "df_catagoric.head()"
   ]
  },
  {
   "cell_type": "markdown",
   "id": "cc01daac",
   "metadata": {},
   "source": [
    "###### Cleaning date columns and making new column"
   ]
  },
  {
   "cell_type": "code",
   "execution_count": 820,
   "id": "af41267b",
   "metadata": {},
   "outputs": [],
   "source": [
    "df_catagoric['createdate'] = df_catagoric['createdate'].apply(lambda x: x[:10])\n",
    "df_catagoric['updatedate'] = df_catagoric['updatedate'].apply(lambda x: x[:10])"
   ]
  },
  {
   "cell_type": "code",
   "execution_count": 821,
   "id": "5cfa68af",
   "metadata": {},
   "outputs": [
    {
     "data": {
      "text/html": [
       "<div>\n",
       "<style scoped>\n",
       "    .dataframe tbody tr th:only-of-type {\n",
       "        vertical-align: middle;\n",
       "    }\n",
       "\n",
       "    .dataframe tbody tr th {\n",
       "        vertical-align: top;\n",
       "    }\n",
       "\n",
       "    .dataframe thead th {\n",
       "        text-align: right;\n",
       "    }\n",
       "</style>\n",
       "<table border=\"1\" class=\"dataframe\">\n",
       "  <thead>\n",
       "    <tr style=\"text-align: right;\">\n",
       "      <th></th>\n",
       "      <th>createdate</th>\n",
       "      <th>updatedate</th>\n",
       "    </tr>\n",
       "  </thead>\n",
       "  <tbody>\n",
       "    <tr>\n",
       "      <th>0</th>\n",
       "      <td>2018-05-10</td>\n",
       "      <td>2018-05-12</td>\n",
       "    </tr>\n",
       "    <tr>\n",
       "      <th>1</th>\n",
       "      <td>2013-05-13</td>\n",
       "      <td>2016-12-02</td>\n",
       "    </tr>\n",
       "    <tr>\n",
       "      <th>2</th>\n",
       "      <td>2013-05-13</td>\n",
       "      <td>2016-12-02</td>\n",
       "    </tr>\n",
       "    <tr>\n",
       "      <th>3</th>\n",
       "      <td>2013-05-13</td>\n",
       "      <td>2016-12-02</td>\n",
       "    </tr>\n",
       "    <tr>\n",
       "      <th>4</th>\n",
       "      <td>2013-05-13</td>\n",
       "      <td>2016-12-02</td>\n",
       "    </tr>\n",
       "  </tbody>\n",
       "</table>\n",
       "</div>"
      ],
      "text/plain": [
       "   createdate  updatedate\n",
       "0  2018-05-10  2018-05-12\n",
       "1  2013-05-13  2016-12-02\n",
       "2  2013-05-13  2016-12-02\n",
       "3  2013-05-13  2016-12-02\n",
       "4  2013-05-13  2016-12-02"
      ]
     },
     "execution_count": 821,
     "metadata": {},
     "output_type": "execute_result"
    }
   ],
   "source": [
    "df_catagoric[['createdate','updatedate']].head()"
   ]
  },
  {
   "cell_type": "code",
   "execution_count": 822,
   "id": "b41d4416",
   "metadata": {},
   "outputs": [
    {
     "data": {
      "text/plain": [
       "0      2 days\n",
       "1   1299 days\n",
       "2   1299 days\n",
       "3   1299 days\n",
       "4   1299 days\n",
       "Name: time_interval, dtype: timedelta64[ns]"
      ]
     },
     "execution_count": 822,
     "metadata": {},
     "output_type": "execute_result"
    }
   ],
   "source": [
    "df_catagoric['createdate'] = pd.to_datetime(df_catagoric['createdate'])\n",
    "df_catagoric['updatedate'] = pd.to_datetime(df_catagoric['updatedate'])\n",
    "df_catagoric['time_interval'] = df_catagoric['updatedate'] - df_catagoric['createdate']\n",
    "df_catagoric['time_interval'].head()"
   ]
  },
  {
   "cell_type": "code",
   "execution_count": 823,
   "id": "354c3e86",
   "metadata": {},
   "outputs": [
    {
     "data": {
      "text/html": [
       "<div>\n",
       "<style scoped>\n",
       "    .dataframe tbody tr th:only-of-type {\n",
       "        vertical-align: middle;\n",
       "    }\n",
       "\n",
       "    .dataframe tbody tr th {\n",
       "        vertical-align: top;\n",
       "    }\n",
       "\n",
       "    .dataframe thead th {\n",
       "        text-align: right;\n",
       "    }\n",
       "</style>\n",
       "<table border=\"1\" class=\"dataframe\">\n",
       "  <thead>\n",
       "    <tr style=\"text-align: right;\">\n",
       "      <th></th>\n",
       "      <th>createdate</th>\n",
       "      <th>updatedate</th>\n",
       "      <th>time_interval</th>\n",
       "    </tr>\n",
       "  </thead>\n",
       "  <tbody>\n",
       "    <tr>\n",
       "      <th>0</th>\n",
       "      <td>2018-05-10</td>\n",
       "      <td>2018-05-12</td>\n",
       "      <td>2</td>\n",
       "    </tr>\n",
       "    <tr>\n",
       "      <th>1</th>\n",
       "      <td>2013-05-13</td>\n",
       "      <td>2016-12-02</td>\n",
       "      <td>1299</td>\n",
       "    </tr>\n",
       "    <tr>\n",
       "      <th>2</th>\n",
       "      <td>2013-05-13</td>\n",
       "      <td>2016-12-02</td>\n",
       "      <td>1299</td>\n",
       "    </tr>\n",
       "    <tr>\n",
       "      <th>3</th>\n",
       "      <td>2013-05-13</td>\n",
       "      <td>2016-12-02</td>\n",
       "      <td>1299</td>\n",
       "    </tr>\n",
       "    <tr>\n",
       "      <th>4</th>\n",
       "      <td>2013-05-13</td>\n",
       "      <td>2016-12-02</td>\n",
       "      <td>1299</td>\n",
       "    </tr>\n",
       "  </tbody>\n",
       "</table>\n",
       "</div>"
      ],
      "text/plain": [
       "  createdate updatedate time_interval\n",
       "0 2018-05-10 2018-05-12             2\n",
       "1 2013-05-13 2016-12-02          1299\n",
       "2 2013-05-13 2016-12-02          1299\n",
       "3 2013-05-13 2016-12-02          1299\n",
       "4 2013-05-13 2016-12-02          1299"
      ]
     },
     "execution_count": 823,
     "metadata": {},
     "output_type": "execute_result"
    }
   ],
   "source": [
    "#To remove the word \"days\" from the values in the 'time_interval' column\n",
    "\n",
    "df_catagoric['time_interval'] = df_catagoric['time_interval'].astype(str)\n",
    "df_catagoric['time_interval'] = df_catagoric['time_interval'].str.replace(' days', '')\n",
    "df_catagoric[['createdate','updatedate','time_interval']].head()"
   ]
  },
  {
   "cell_type": "markdown",
   "id": "98fbffd7",
   "metadata": {},
   "source": [
    "###### Droping some dummy and unnecessary features "
   ]
  },
  {
   "cell_type": "code",
   "execution_count": 824,
   "id": "bae62326",
   "metadata": {},
   "outputs": [],
   "source": [
    " df_catagoric.drop(['namealt', 'icao','iata','humoperatedby',\n",
    "                    'lastcheckdate','remarks','url_lca','source','location','namelong',\n",
    "                   'iso3','iso3_op','location_2','createdate','updatedate','nameshort',\n",
    "                   'city','dmg','rwpaved','locprecision'], axis=1, inplace=True)"
   ]
  },
  {
   "cell_type": "code",
   "execution_count": 825,
   "id": "bc6218ce",
   "metadata": {},
   "outputs": [
    {
     "data": {
      "text/html": [
       "<div>\n",
       "<style scoped>\n",
       "    .dataframe tbody tr th:only-of-type {\n",
       "        vertical-align: middle;\n",
       "    }\n",
       "\n",
       "    .dataframe tbody tr th {\n",
       "        vertical-align: top;\n",
       "    }\n",
       "\n",
       "    .dataframe thead th {\n",
       "        text-align: right;\n",
       "    }\n",
       "</style>\n",
       "<table border=\"1\" class=\"dataframe\">\n",
       "  <thead>\n",
       "    <tr style=\"text-align: right;\">\n",
       "      <th></th>\n",
       "      <th>apttype</th>\n",
       "      <th>aptclass</th>\n",
       "      <th>authority</th>\n",
       "      <th>status</th>\n",
       "      <th>humuse</th>\n",
       "      <th>country</th>\n",
       "      <th>time_interval</th>\n",
       "    </tr>\n",
       "  </thead>\n",
       "  <tbody>\n",
       "    <tr>\n",
       "      <th>0</th>\n",
       "      <td>Airstrip</td>\n",
       "      <td>Unspecified</td>\n",
       "      <td></td>\n",
       "      <td>Open</td>\n",
       "      <td></td>\n",
       "      <td>Costa Rica</td>\n",
       "      <td>2</td>\n",
       "    </tr>\n",
       "    <tr>\n",
       "      <th>1</th>\n",
       "      <td>Airport</td>\n",
       "      <td>International</td>\n",
       "      <td>Civil/Military</td>\n",
       "      <td>Open</td>\n",
       "      <td>No</td>\n",
       "      <td>Nigeria</td>\n",
       "      <td>1299</td>\n",
       "    </tr>\n",
       "    <tr>\n",
       "      <th>2</th>\n",
       "      <td>Airstrip</td>\n",
       "      <td>Domestic</td>\n",
       "      <td>Civil</td>\n",
       "      <td>Open</td>\n",
       "      <td>No</td>\n",
       "      <td>Nigeria</td>\n",
       "      <td>1299</td>\n",
       "    </tr>\n",
       "    <tr>\n",
       "      <th>3</th>\n",
       "      <td>Airfield</td>\n",
       "      <td>Domestic</td>\n",
       "      <td>Military</td>\n",
       "      <td>Unknown</td>\n",
       "      <td>No</td>\n",
       "      <td>Nigeria</td>\n",
       "      <td>1299</td>\n",
       "    </tr>\n",
       "    <tr>\n",
       "      <th>4</th>\n",
       "      <td>Airfield</td>\n",
       "      <td>Domestic</td>\n",
       "      <td>Civil</td>\n",
       "      <td>Open</td>\n",
       "      <td>No</td>\n",
       "      <td>Nigeria</td>\n",
       "      <td>1299</td>\n",
       "    </tr>\n",
       "  </tbody>\n",
       "</table>\n",
       "</div>"
      ],
      "text/plain": [
       "    apttype       aptclass       authority   status humuse     country  \\\n",
       "0  Airstrip    Unspecified                     Open         Costa Rica   \n",
       "1   Airport  International  Civil/Military     Open     No     Nigeria   \n",
       "2  Airstrip       Domestic           Civil     Open     No     Nigeria   \n",
       "3  Airfield       Domestic        Military  Unknown     No     Nigeria   \n",
       "4  Airfield       Domestic           Civil     Open     No     Nigeria   \n",
       "\n",
       "  time_interval  \n",
       "0             2  \n",
       "1          1299  \n",
       "2          1299  \n",
       "3          1299  \n",
       "4          1299  "
      ]
     },
     "execution_count": 825,
     "metadata": {},
     "output_type": "execute_result"
    }
   ],
   "source": [
    "df_catagoric.head()"
   ]
  },
  {
   "cell_type": "code",
   "execution_count": 826,
   "id": "e5fa5449",
   "metadata": {},
   "outputs": [
    {
     "data": {
      "text/plain": [
       "Colombia             698\n",
       "Papua New Guinea     498\n",
       "Indonesia            205\n",
       "Bolivia              180\n",
       "South Sudan          159\n",
       "                    ... \n",
       "Montserrat             1\n",
       "Antigua & Barbuda      1\n",
       "Madeira Islands        1\n",
       "Palmyra Atoll          1\n",
       "Hong Kong              1\n",
       "Name: country, Length: 222, dtype: int64"
      ]
     },
     "execution_count": 826,
     "metadata": {},
     "output_type": "execute_result"
    }
   ],
   "source": [
    "df_catagoric['country'].value_counts()"
   ]
  },
  {
   "cell_type": "code",
   "execution_count": 827,
   "id": "52921858",
   "metadata": {},
   "outputs": [
    {
     "data": {
      "text/plain": [
       "Colombia                            698\n",
       "Papua New Guinea                    498\n",
       "Indonesia                           205\n",
       "Bolivia                             180\n",
       "South Sudan                         159\n",
       "United States of America            142\n",
       "Democratic Republic of the Congo    137\n",
       "Madagascar                          135\n",
       "Costa Rica                          133\n",
       "Sudan                               130\n",
       "Haiti                               117\n",
       "Ukraine                             113\n",
       "Turkey                              110\n",
       "Philippines                         110\n",
       "South Africa                        104\n",
       "Japan                               101\n",
       "India                                92\n",
       "Myanmar                              88\n",
       "Ecuador                              83\n",
       "Iran (Islamic Republic of)           81\n",
       "Kenya                                73\n",
       "Iraq                                 73\n",
       "Nepal                                72\n",
       "Saudi Arabia                         70\n",
       "Egypt                                69\n",
       "Chad                                 66\n",
       "United Republic of Tanzania          62\n",
       "Mexico                               61\n",
       "Central African Republic             60\n",
       "Thailand                             60\n",
       "Ethiopia                             59\n",
       "Afghanistan                          58\n",
       "Pakistan                             57\n",
       "Algeria                              55\n",
       "Chile                                51\n",
       "Yemen                                51\n",
       "Name: country, dtype: int64"
      ]
     },
     "execution_count": 827,
     "metadata": {},
     "output_type": "execute_result"
    }
   ],
   "source": [
    "country_counts = df_catagoric['country'].value_counts()\n",
    "countries_above_50 = country_counts[country_counts > 50]\n",
    "countries_above_50"
   ]
  },
  {
   "cell_type": "code",
   "execution_count": 828,
   "id": "9ed40818",
   "metadata": {},
   "outputs": [],
   "source": [
    "#For our analyzing we remove some contries which there are number of little\n",
    "country_counts = df_catagoric['country'].value_counts()\n",
    "countries_below_50 = country_counts[country_counts < 50]\n",
    "countries_to_drop = countries_below_50.index\n",
    "\n",
    "mapping_dict = {country: float('nan') for country in countries_to_drop}\n",
    "\n",
    "df_catagoric['country'] = df_catagoric['country'].replace(mapping_dict)"
   ]
  },
  {
   "cell_type": "code",
   "execution_count": 829,
   "id": "dd66c2da",
   "metadata": {},
   "outputs": [
    {
     "data": {
      "text/plain": [
       "0       Costa Rica\n",
       "1              NaN\n",
       "2              NaN\n",
       "3              NaN\n",
       "4              NaN\n",
       "           ...    \n",
       "6442    Costa Rica\n",
       "6443    Costa Rica\n",
       "6444    Costa Rica\n",
       "6445    Costa Rica\n",
       "6446    Costa Rica\n",
       "Name: country, Length: 6447, dtype: object"
      ]
     },
     "execution_count": 829,
     "metadata": {},
     "output_type": "execute_result"
    }
   ],
   "source": [
    "df_catagoric['country']"
   ]
  },
  {
   "cell_type": "code",
   "execution_count": 830,
   "id": "e58ae0bf",
   "metadata": {},
   "outputs": [
    {
     "data": {
      "text/plain": [
       "No                       4338\n",
       "Unknown                  1377\n",
       "Connection                198\n",
       "Yes                       131\n",
       "                          129\n",
       "Closed                     95\n",
       "Upon Request               52\n",
       "Hub                        35\n",
       "Planned                     8\n",
       "Potential                   5\n",
       "Stand by Capacity Hub       1\n",
       "Name: humuse, dtype: int64"
      ]
     },
     "execution_count": 830,
     "metadata": {},
     "output_type": "execute_result"
    }
   ],
   "source": [
    "df_catagoric['humuse'].value_counts()"
   ]
  },
  {
   "cell_type": "code",
   "execution_count": 831,
   "id": "b144089d",
   "metadata": {},
   "outputs": [],
   "source": [
    "humuse_counts = df_catagoric['humuse'].value_counts()\n",
    "humuse_below_50 = humuse_counts[humuse_counts < 50]\n",
    "humuse_to_drop = humuse_below_50.index\n",
    "\n",
    "mapping_dict = {humuse: float('nan') for humuse in humuse_to_drop}\n",
    "\n",
    "df_catagoric['humuse'] = df_catagoric['humuse'].replace(mapping_dict)"
   ]
  },
  {
   "cell_type": "markdown",
   "id": "8eb5984b",
   "metadata": {},
   "source": [
    "###### Replacing Unknown and empyt values as NaN"
   ]
  },
  {
   "cell_type": "code",
   "execution_count": 832,
   "id": "21aad1e6",
   "metadata": {},
   "outputs": [],
   "source": [
    "df_catagoric.replace('Unknown', np.NaN, inplace=True)"
   ]
  },
  {
   "cell_type": "code",
   "execution_count": 833,
   "id": "9e50655c",
   "metadata": {},
   "outputs": [],
   "source": [
    "df_catagoric.replace(' ', np.NaN, inplace=True)"
   ]
  },
  {
   "cell_type": "code",
   "execution_count": 834,
   "id": "f08aa641",
   "metadata": {},
   "outputs": [
    {
     "data": {
      "text/html": [
       "<div>\n",
       "<style scoped>\n",
       "    .dataframe tbody tr th:only-of-type {\n",
       "        vertical-align: middle;\n",
       "    }\n",
       "\n",
       "    .dataframe tbody tr th {\n",
       "        vertical-align: top;\n",
       "    }\n",
       "\n",
       "    .dataframe thead th {\n",
       "        text-align: right;\n",
       "    }\n",
       "</style>\n",
       "<table border=\"1\" class=\"dataframe\">\n",
       "  <thead>\n",
       "    <tr style=\"text-align: right;\">\n",
       "      <th></th>\n",
       "      <th>apttype</th>\n",
       "      <th>aptclass</th>\n",
       "      <th>authority</th>\n",
       "      <th>status</th>\n",
       "      <th>humuse</th>\n",
       "      <th>country</th>\n",
       "      <th>time_interval</th>\n",
       "    </tr>\n",
       "  </thead>\n",
       "  <tbody>\n",
       "    <tr>\n",
       "      <th>0</th>\n",
       "      <td>Airstrip</td>\n",
       "      <td>Unspecified</td>\n",
       "      <td>NaN</td>\n",
       "      <td>Open</td>\n",
       "      <td>NaN</td>\n",
       "      <td>Costa Rica</td>\n",
       "      <td>2</td>\n",
       "    </tr>\n",
       "    <tr>\n",
       "      <th>1</th>\n",
       "      <td>Airport</td>\n",
       "      <td>International</td>\n",
       "      <td>Civil/Military</td>\n",
       "      <td>Open</td>\n",
       "      <td>No</td>\n",
       "      <td>NaN</td>\n",
       "      <td>1299</td>\n",
       "    </tr>\n",
       "    <tr>\n",
       "      <th>2</th>\n",
       "      <td>Airstrip</td>\n",
       "      <td>Domestic</td>\n",
       "      <td>Civil</td>\n",
       "      <td>Open</td>\n",
       "      <td>No</td>\n",
       "      <td>NaN</td>\n",
       "      <td>1299</td>\n",
       "    </tr>\n",
       "    <tr>\n",
       "      <th>3</th>\n",
       "      <td>Airfield</td>\n",
       "      <td>Domestic</td>\n",
       "      <td>Military</td>\n",
       "      <td>NaN</td>\n",
       "      <td>No</td>\n",
       "      <td>NaN</td>\n",
       "      <td>1299</td>\n",
       "    </tr>\n",
       "    <tr>\n",
       "      <th>4</th>\n",
       "      <td>Airfield</td>\n",
       "      <td>Domestic</td>\n",
       "      <td>Civil</td>\n",
       "      <td>Open</td>\n",
       "      <td>No</td>\n",
       "      <td>NaN</td>\n",
       "      <td>1299</td>\n",
       "    </tr>\n",
       "  </tbody>\n",
       "</table>\n",
       "</div>"
      ],
      "text/plain": [
       "    apttype       aptclass       authority status humuse     country  \\\n",
       "0  Airstrip    Unspecified             NaN   Open    NaN  Costa Rica   \n",
       "1   Airport  International  Civil/Military   Open     No         NaN   \n",
       "2  Airstrip       Domestic           Civil   Open     No         NaN   \n",
       "3  Airfield       Domestic        Military    NaN     No         NaN   \n",
       "4  Airfield       Domestic           Civil   Open     No         NaN   \n",
       "\n",
       "  time_interval  \n",
       "0             2  \n",
       "1          1299  \n",
       "2          1299  \n",
       "3          1299  \n",
       "4          1299  "
      ]
     },
     "execution_count": 834,
     "metadata": {},
     "output_type": "execute_result"
    }
   ],
   "source": [
    "df_catagoric.head()"
   ]
  },
  {
   "cell_type": "code",
   "execution_count": null,
   "id": "66273d3b",
   "metadata": {},
   "outputs": [],
   "source": []
  },
  {
   "cell_type": "markdown",
   "id": "ccf62c80",
   "metadata": {},
   "source": [
    "###### Cleaning NaN values "
   ]
  },
  {
   "cell_type": "code",
   "execution_count": 835,
   "id": "3e190a96",
   "metadata": {},
   "outputs": [],
   "source": [
    "column_headers = df_catagoric.columns.tolist()\n",
    "\n",
    "cleaner = SimpleImputer(strategy='most_frequent')\n",
    "\n",
    "transformed_data = cleaner.fit_transform(df_catagoric)\n",
    "\n",
    "# Create a new DataFrame with transformed values\n",
    "DF_catagoric = pd.DataFrame(transformed_data, columns=column_headers)"
   ]
  },
  {
   "cell_type": "code",
   "execution_count": 836,
   "id": "9a0616ff",
   "metadata": {},
   "outputs": [
    {
     "data": {
      "text/html": [
       "<div>\n",
       "<style scoped>\n",
       "    .dataframe tbody tr th:only-of-type {\n",
       "        vertical-align: middle;\n",
       "    }\n",
       "\n",
       "    .dataframe tbody tr th {\n",
       "        vertical-align: top;\n",
       "    }\n",
       "\n",
       "    .dataframe thead th {\n",
       "        text-align: right;\n",
       "    }\n",
       "</style>\n",
       "<table border=\"1\" class=\"dataframe\">\n",
       "  <thead>\n",
       "    <tr style=\"text-align: right;\">\n",
       "      <th></th>\n",
       "      <th>apttype</th>\n",
       "      <th>aptclass</th>\n",
       "      <th>authority</th>\n",
       "      <th>status</th>\n",
       "      <th>humuse</th>\n",
       "      <th>country</th>\n",
       "      <th>time_interval</th>\n",
       "    </tr>\n",
       "  </thead>\n",
       "  <tbody>\n",
       "    <tr>\n",
       "      <th>0</th>\n",
       "      <td>Airstrip</td>\n",
       "      <td>Unspecified</td>\n",
       "      <td>Civil</td>\n",
       "      <td>Open</td>\n",
       "      <td>No</td>\n",
       "      <td>Costa Rica</td>\n",
       "      <td>2</td>\n",
       "    </tr>\n",
       "    <tr>\n",
       "      <th>1</th>\n",
       "      <td>Airport</td>\n",
       "      <td>International</td>\n",
       "      <td>Civil/Military</td>\n",
       "      <td>Open</td>\n",
       "      <td>No</td>\n",
       "      <td>Colombia</td>\n",
       "      <td>1299</td>\n",
       "    </tr>\n",
       "    <tr>\n",
       "      <th>2</th>\n",
       "      <td>Airstrip</td>\n",
       "      <td>Domestic</td>\n",
       "      <td>Civil</td>\n",
       "      <td>Open</td>\n",
       "      <td>No</td>\n",
       "      <td>Colombia</td>\n",
       "      <td>1299</td>\n",
       "    </tr>\n",
       "    <tr>\n",
       "      <th>3</th>\n",
       "      <td>Airfield</td>\n",
       "      <td>Domestic</td>\n",
       "      <td>Military</td>\n",
       "      <td>Open</td>\n",
       "      <td>No</td>\n",
       "      <td>Colombia</td>\n",
       "      <td>1299</td>\n",
       "    </tr>\n",
       "    <tr>\n",
       "      <th>4</th>\n",
       "      <td>Airfield</td>\n",
       "      <td>Domestic</td>\n",
       "      <td>Civil</td>\n",
       "      <td>Open</td>\n",
       "      <td>No</td>\n",
       "      <td>Colombia</td>\n",
       "      <td>1299</td>\n",
       "    </tr>\n",
       "    <tr>\n",
       "      <th>...</th>\n",
       "      <td>...</td>\n",
       "      <td>...</td>\n",
       "      <td>...</td>\n",
       "      <td>...</td>\n",
       "      <td>...</td>\n",
       "      <td>...</td>\n",
       "      <td>...</td>\n",
       "    </tr>\n",
       "    <tr>\n",
       "      <th>6442</th>\n",
       "      <td>Airstrip</td>\n",
       "      <td>Unspecified</td>\n",
       "      <td>Civil</td>\n",
       "      <td>Open</td>\n",
       "      <td>No</td>\n",
       "      <td>Costa Rica</td>\n",
       "      <td>6</td>\n",
       "    </tr>\n",
       "    <tr>\n",
       "      <th>6443</th>\n",
       "      <td>Airstrip</td>\n",
       "      <td>Unspecified</td>\n",
       "      <td>Civil</td>\n",
       "      <td>Open</td>\n",
       "      <td>No</td>\n",
       "      <td>Costa Rica</td>\n",
       "      <td>6</td>\n",
       "    </tr>\n",
       "    <tr>\n",
       "      <th>6444</th>\n",
       "      <td>Airstrip</td>\n",
       "      <td>Unspecified</td>\n",
       "      <td>Civil</td>\n",
       "      <td>Open</td>\n",
       "      <td>No</td>\n",
       "      <td>Costa Rica</td>\n",
       "      <td>6</td>\n",
       "    </tr>\n",
       "    <tr>\n",
       "      <th>6445</th>\n",
       "      <td>Airstrip</td>\n",
       "      <td>Unspecified</td>\n",
       "      <td>Civil</td>\n",
       "      <td>Closed</td>\n",
       "      <td>No</td>\n",
       "      <td>Costa Rica</td>\n",
       "      <td>6</td>\n",
       "    </tr>\n",
       "    <tr>\n",
       "      <th>6446</th>\n",
       "      <td>Airport</td>\n",
       "      <td>Domestic</td>\n",
       "      <td>Civil</td>\n",
       "      <td>Open</td>\n",
       "      <td>No</td>\n",
       "      <td>Costa Rica</td>\n",
       "      <td>4</td>\n",
       "    </tr>\n",
       "  </tbody>\n",
       "</table>\n",
       "<p>6447 rows × 7 columns</p>\n",
       "</div>"
      ],
      "text/plain": [
       "       apttype       aptclass       authority  status humuse     country  \\\n",
       "0     Airstrip    Unspecified           Civil    Open     No  Costa Rica   \n",
       "1      Airport  International  Civil/Military    Open     No    Colombia   \n",
       "2     Airstrip       Domestic           Civil    Open     No    Colombia   \n",
       "3     Airfield       Domestic        Military    Open     No    Colombia   \n",
       "4     Airfield       Domestic           Civil    Open     No    Colombia   \n",
       "...        ...            ...             ...     ...    ...         ...   \n",
       "6442  Airstrip    Unspecified           Civil    Open     No  Costa Rica   \n",
       "6443  Airstrip    Unspecified           Civil    Open     No  Costa Rica   \n",
       "6444  Airstrip    Unspecified           Civil    Open     No  Costa Rica   \n",
       "6445  Airstrip    Unspecified           Civil  Closed     No  Costa Rica   \n",
       "6446   Airport       Domestic           Civil    Open     No  Costa Rica   \n",
       "\n",
       "     time_interval  \n",
       "0                2  \n",
       "1             1299  \n",
       "2             1299  \n",
       "3             1299  \n",
       "4             1299  \n",
       "...            ...  \n",
       "6442             6  \n",
       "6443             6  \n",
       "6444             6  \n",
       "6445             6  \n",
       "6446             4  \n",
       "\n",
       "[6447 rows x 7 columns]"
      ]
     },
     "execution_count": 836,
     "metadata": {},
     "output_type": "execute_result"
    }
   ],
   "source": [
    "DF_catagoric"
   ]
  },
  {
   "cell_type": "code",
   "execution_count": 837,
   "id": "0494b56d",
   "metadata": {},
   "outputs": [],
   "source": [
    "data['time_interval'] = data['time_interval'].astype(int)"
   ]
  },
  {
   "cell_type": "code",
   "execution_count": 838,
   "id": "663f0556",
   "metadata": {},
   "outputs": [
    {
     "name": "stdout",
     "output_type": "stream",
     "text": [
      "<class 'pandas.core.frame.DataFrame'>\n",
      "RangeIndex: 6447 entries, 0 to 6446\n",
      "Data columns (total 10 columns):\n",
      " #   Column         Non-Null Count  Dtype  \n",
      "---  ------         --------------  -----  \n",
      " 0   latitude       6447 non-null   float64\n",
      " 1   longitude      6447 non-null   float64\n",
      " 2   geonameid      6447 non-null   float64\n",
      " 3   apttype        6447 non-null   int32  \n",
      " 4   aptclass       6447 non-null   int32  \n",
      " 5   authority      6447 non-null   int32  \n",
      " 6   status         6447 non-null   int32  \n",
      " 7   humuse         6447 non-null   int32  \n",
      " 8   country        6447 non-null   int32  \n",
      " 9   time_interval  6447 non-null   int32  \n",
      "dtypes: float64(3), int32(7)\n",
      "memory usage: 327.5 KB\n"
     ]
    }
   ],
   "source": [
    "data.info()"
   ]
  },
  {
   "cell_type": "markdown",
   "id": "1ba315de",
   "metadata": {},
   "source": [
    "###### Encoding Catagorical Features"
   ]
  },
  {
   "cell_type": "code",
   "execution_count": 839,
   "id": "f32e09a1",
   "metadata": {},
   "outputs": [],
   "source": [
    "label_encoder = LabelEncoder()\n",
    "\n",
    "columns_to_encode = ['apttype', 'aptclass', 'authority', 'status', 'country', 'humuse']\n",
    "\n",
    "for column in columns_to_encode:\n",
    "    DF_catagoric[column] = label_encoder.fit_transform(DF_catagoric[column])\n"
   ]
  },
  {
   "cell_type": "markdown",
   "id": "dbc1705f",
   "metadata": {},
   "source": [
    "###### Concat two different datframe"
   ]
  },
  {
   "cell_type": "code",
   "execution_count": 840,
   "id": "a8859c6d",
   "metadata": {},
   "outputs": [],
   "source": [
    "numeric = df_numneric.reset_index(drop=True)\n",
    "catog = DF_catagoric.reset_index(drop=True)\n",
    "data = pd.concat([numeric, catog], axis=1)"
   ]
  },
  {
   "cell_type": "code",
   "execution_count": 841,
   "id": "84a7699d",
   "metadata": {},
   "outputs": [
    {
     "data": {
      "text/html": [
       "<div>\n",
       "<style scoped>\n",
       "    .dataframe tbody tr th:only-of-type {\n",
       "        vertical-align: middle;\n",
       "    }\n",
       "\n",
       "    .dataframe tbody tr th {\n",
       "        vertical-align: top;\n",
       "    }\n",
       "\n",
       "    .dataframe thead th {\n",
       "        text-align: right;\n",
       "    }\n",
       "</style>\n",
       "<table border=\"1\" class=\"dataframe\">\n",
       "  <thead>\n",
       "    <tr style=\"text-align: right;\">\n",
       "      <th></th>\n",
       "      <th>latitude</th>\n",
       "      <th>longitude</th>\n",
       "      <th>geonameid</th>\n",
       "      <th>apttype</th>\n",
       "      <th>aptclass</th>\n",
       "      <th>authority</th>\n",
       "      <th>status</th>\n",
       "      <th>humuse</th>\n",
       "      <th>country</th>\n",
       "      <th>time_interval</th>\n",
       "    </tr>\n",
       "  </thead>\n",
       "  <tbody>\n",
       "    <tr>\n",
       "      <th>0</th>\n",
       "      <td>9.81112</td>\n",
       "      <td>-85.29550</td>\n",
       "      <td>3.623378e+06</td>\n",
       "      <td>2</td>\n",
       "      <td>3</td>\n",
       "      <td>0</td>\n",
       "      <td>1</td>\n",
       "      <td>2</td>\n",
       "      <td>7</td>\n",
       "      <td>2</td>\n",
       "    </tr>\n",
       "    <tr>\n",
       "      <th>1</th>\n",
       "      <td>6.57853</td>\n",
       "      <td>3.32214</td>\n",
       "      <td>2.332459e+06</td>\n",
       "      <td>1</td>\n",
       "      <td>2</td>\n",
       "      <td>2</td>\n",
       "      <td>1</td>\n",
       "      <td>2</td>\n",
       "      <td>6</td>\n",
       "      <td>1299</td>\n",
       "    </tr>\n",
       "    <tr>\n",
       "      <th>2</th>\n",
       "      <td>9.10347</td>\n",
       "      <td>6.01528</td>\n",
       "      <td>2.347209e+06</td>\n",
       "      <td>2</td>\n",
       "      <td>0</td>\n",
       "      <td>0</td>\n",
       "      <td>1</td>\n",
       "      <td>2</td>\n",
       "      <td>6</td>\n",
       "      <td>1299</td>\n",
       "    </tr>\n",
       "    <tr>\n",
       "      <th>3</th>\n",
       "      <td>9.89267</td>\n",
       "      <td>4.48545</td>\n",
       "      <td>5.601906e+07</td>\n",
       "      <td>0</td>\n",
       "      <td>0</td>\n",
       "      <td>4</td>\n",
       "      <td>1</td>\n",
       "      <td>2</td>\n",
       "      <td>6</td>\n",
       "      <td>1299</td>\n",
       "    </tr>\n",
       "    <tr>\n",
       "      <th>4</th>\n",
       "      <td>13.00800</td>\n",
       "      <td>7.66000</td>\n",
       "      <td>2.334802e+06</td>\n",
       "      <td>0</td>\n",
       "      <td>0</td>\n",
       "      <td>0</td>\n",
       "      <td>1</td>\n",
       "      <td>2</td>\n",
       "      <td>6</td>\n",
       "      <td>1299</td>\n",
       "    </tr>\n",
       "  </tbody>\n",
       "</table>\n",
       "</div>"
      ],
      "text/plain": [
       "   latitude  longitude     geonameid  apttype  aptclass  authority  status  \\\n",
       "0   9.81112  -85.29550  3.623378e+06        2         3          0       1   \n",
       "1   6.57853    3.32214  2.332459e+06        1         2          2       1   \n",
       "2   9.10347    6.01528  2.347209e+06        2         0          0       1   \n",
       "3   9.89267    4.48545  5.601906e+07        0         0          4       1   \n",
       "4  13.00800    7.66000  2.334802e+06        0         0          0       1   \n",
       "\n",
       "   humuse  country time_interval  \n",
       "0       2        7             2  \n",
       "1       2        6          1299  \n",
       "2       2        6          1299  \n",
       "3       2        6          1299  \n",
       "4       2        6          1299  "
      ]
     },
     "execution_count": 841,
     "metadata": {},
     "output_type": "execute_result"
    }
   ],
   "source": [
    "data.head()"
   ]
  },
  {
   "cell_type": "code",
   "execution_count": 842,
   "id": "4ec7df53",
   "metadata": {},
   "outputs": [],
   "source": [
    "Data = data.copy()"
   ]
  },
  {
   "cell_type": "code",
   "execution_count": 843,
   "id": "38cd4dd5",
   "metadata": {},
   "outputs": [],
   "source": [
    "x = Data.iloc[:,0:9]\n",
    "y = Data.iloc[:,9]"
   ]
  },
  {
   "cell_type": "markdown",
   "id": "fbcea59c",
   "metadata": {},
   "source": [
    "###### Power transform\n",
    "\n",
    "With standardization"
   ]
  },
  {
   "cell_type": "code",
   "execution_count": 844,
   "id": "543ee3c0",
   "metadata": {
    "scrolled": true
   },
   "outputs": [
    {
     "data": {
      "image/png": "[encoded data removed]",
      "text/plain": [
       "<Figure size 432x288 with 9 Axes>"
      ]
     },
     "metadata": {
      "needs_background": "light"
     },
     "output_type": "display_data"
    }
   ],
   "source": [
    "hist = x.hist()"
   ]
  },
  {
   "cell_type": "code",
   "execution_count": 845,
   "id": "c86b15dd",
   "metadata": {},
   "outputs": [],
   "source": [
    "col_names = x.columns"
   ]
  },
  {
   "cell_type": "code",
   "execution_count": 846,
   "id": "bf6f397b",
   "metadata": {},
   "outputs": [],
   "source": [
    "transformer = QuantileTransformer(output_distribution='normal')\n",
    "transformed_array = transformer.fit_transform(x)\n",
    "\n",
    "data_transformed = pd.DataFrame(transformed_array, columns=x.columns)"
   ]
  },
  {
   "cell_type": "code",
   "execution_count": 847,
   "id": "200cb9b7",
   "metadata": {},
   "outputs": [
    {
     "data": {
      "text/html": [
       "<div>\n",
       "<style scoped>\n",
       "    .dataframe tbody tr th:only-of-type {\n",
       "        vertical-align: middle;\n",
       "    }\n",
       "\n",
       "    .dataframe tbody tr th {\n",
       "        vertical-align: top;\n",
       "    }\n",
       "\n",
       "    .dataframe thead th {\n",
       "        text-align: right;\n",
       "    }\n",
       "</style>\n",
       "<table border=\"1\" class=\"dataframe\">\n",
       "  <thead>\n",
       "    <tr style=\"text-align: right;\">\n",
       "      <th></th>\n",
       "      <th>latitude</th>\n",
       "      <th>longitude</th>\n",
       "      <th>geonameid</th>\n",
       "      <th>apttype</th>\n",
       "      <th>aptclass</th>\n",
       "      <th>authority</th>\n",
       "      <th>status</th>\n",
       "      <th>humuse</th>\n",
       "      <th>country</th>\n",
       "    </tr>\n",
       "  </thead>\n",
       "  <tbody>\n",
       "    <tr>\n",
       "      <th>0</th>\n",
       "      <td>0.062653</td>\n",
       "      <td>-1.671450</td>\n",
       "      <td>0.387542</td>\n",
       "      <td>0.483658</td>\n",
       "      <td>5.199338</td>\n",
       "      <td>-5.199338</td>\n",
       "      <td>0.013801</td>\n",
       "      <td>0.021329</td>\n",
       "      <td>0.017565</td>\n",
       "    </tr>\n",
       "    <tr>\n",
       "      <th>1</th>\n",
       "      <td>-0.142848</td>\n",
       "      <td>-0.424905</td>\n",
       "      <td>0.137221</td>\n",
       "      <td>-0.445919</td>\n",
       "      <td>1.525529</td>\n",
       "      <td>1.258508</td>\n",
       "      <td>0.013801</td>\n",
       "      <td>0.021329</td>\n",
       "      <td>-0.568686</td>\n",
       "    </tr>\n",
       "    <tr>\n",
       "      <th>2</th>\n",
       "      <td>0.008798</td>\n",
       "      <td>-0.411972</td>\n",
       "      <td>0.144779</td>\n",
       "      <td>0.483658</td>\n",
       "      <td>-5.199338</td>\n",
       "      <td>-5.199338</td>\n",
       "      <td>0.013801</td>\n",
       "      <td>0.021329</td>\n",
       "      <td>-0.568686</td>\n",
       "    </tr>\n",
       "    <tr>\n",
       "      <th>3</th>\n",
       "      <td>0.068890</td>\n",
       "      <td>-0.421180</td>\n",
       "      <td>1.033647</td>\n",
       "      <td>-5.199338</td>\n",
       "      <td>-5.199338</td>\n",
       "      <td>1.644369</td>\n",
       "      <td>0.013801</td>\n",
       "      <td>0.021329</td>\n",
       "      <td>-0.568686</td>\n",
       "    </tr>\n",
       "    <tr>\n",
       "      <th>4</th>\n",
       "      <td>0.241817</td>\n",
       "      <td>-0.398907</td>\n",
       "      <td>0.138307</td>\n",
       "      <td>-5.199338</td>\n",
       "      <td>-5.199338</td>\n",
       "      <td>-5.199338</td>\n",
       "      <td>0.013801</td>\n",
       "      <td>0.021329</td>\n",
       "      <td>-0.568686</td>\n",
       "    </tr>\n",
       "  </tbody>\n",
       "</table>\n",
       "</div>"
      ],
      "text/plain": [
       "   latitude  longitude  geonameid   apttype  aptclass  authority    status  \\\n",
       "0  0.062653  -1.671450   0.387542  0.483658  5.199338  -5.199338  0.013801   \n",
       "1 -0.142848  -0.424905   0.137221 -0.445919  1.525529   1.258508  0.013801   \n",
       "2  0.008798  -0.411972   0.144779  0.483658 -5.199338  -5.199338  0.013801   \n",
       "3  0.068890  -0.421180   1.033647 -5.199338 -5.199338   1.644369  0.013801   \n",
       "4  0.241817  -0.398907   0.138307 -5.199338 -5.199338  -5.199338  0.013801   \n",
       "\n",
       "     humuse   country  \n",
       "0  0.021329  0.017565  \n",
       "1  0.021329 -0.568686  \n",
       "2  0.021329 -0.568686  \n",
       "3  0.021329 -0.568686  \n",
       "4  0.021329 -0.568686  "
      ]
     },
     "execution_count": 847,
     "metadata": {},
     "output_type": "execute_result"
    }
   ],
   "source": [
    "data_transformed.head()"
   ]
  },
  {
   "cell_type": "code",
   "execution_count": 848,
   "id": "eb40db6a",
   "metadata": {},
   "outputs": [
    {
     "data": {
      "text/plain": [
       "(array([[1.000e+00, 6.000e+00, 1.160e+02, 8.390e+02, 2.259e+03, 2.264e+03,\n",
       "         8.400e+02, 1.160e+02, 5.000e+00, 1.000e+00],\n",
       "        [1.403e+03, 0.000e+00, 0.000e+00, 0.000e+00, 1.419e+03, 3.197e+03,\n",
       "         0.000e+00, 0.000e+00, 0.000e+00, 4.280e+02]]),\n",
       " array([-5.19933758e+00, -4.15947007e+00, -3.11960255e+00, -2.07973503e+00,\n",
       "        -1.03986752e+00,  4.89217555e-11,  1.03986752e+00,  2.07973503e+00,\n",
       "         3.11960255e+00,  4.15947007e+00,  5.19933758e+00]),\n",
       " <a list of 2 BarContainer objects>)"
      ]
     },
     "execution_count": 848,
     "metadata": {},
     "output_type": "execute_result"
    },
    {
     "data": {
      "image/png": "[encoded data removed]",
      "text/plain": [
       "<Figure size 432x288 with 1 Axes>"
      ]
     },
     "metadata": {
      "needs_background": "light"
     },
     "output_type": "display_data"
    }
   ],
   "source": [
    "plt.hist(data_transformed[['latitude','apttype']])"
   ]
  },
  {
   "cell_type": "code",
   "execution_count": 849,
   "id": "4c0f02c7",
   "metadata": {},
   "outputs": [
    {
     "data": {
      "text/plain": [
       "(array([  58.,    0.,   55.,  357., 2732., 2314.,  738.,  142.,    0.,\n",
       "          51.]),\n",
       " array([-5.19933758e+00, -4.15947007e+00, -3.11960255e+00, -2.07973503e+00,\n",
       "        -1.03986752e+00,  4.89217555e-11,  1.03986752e+00,  2.07973503e+00,\n",
       "         3.11960255e+00,  4.15947007e+00,  5.19933758e+00]),\n",
       " <BarContainer object of 10 artists>)"
      ]
     },
     "execution_count": 849,
     "metadata": {},
     "output_type": "execute_result"
    },
    {
     "data": {
      "image/png": "[encoded data removed]",
      "text/plain": [
       "<Figure size 432x288 with 1 Axes>"
      ]
     },
     "metadata": {
      "needs_background": "light"
     },
     "output_type": "display_data"
    }
   ],
   "source": [
    "plt.hist(data_transformed['country'])"
   ]
  },
  {
   "cell_type": "markdown",
   "id": "f4474015",
   "metadata": {},
   "source": [
    "###### Separating Output and Input"
   ]
  },
  {
   "cell_type": "code",
   "execution_count": 850,
   "id": "a6002f71",
   "metadata": {},
   "outputs": [],
   "source": [
    "X = data_transformed.copy()"
   ]
  },
  {
   "cell_type": "code",
   "execution_count": 851,
   "id": "de165f4a",
   "metadata": {},
   "outputs": [
    {
     "data": {
      "text/html": [
       "<div>\n",
       "<style scoped>\n",
       "    .dataframe tbody tr th:only-of-type {\n",
       "        vertical-align: middle;\n",
       "    }\n",
       "\n",
       "    .dataframe tbody tr th {\n",
       "        vertical-align: top;\n",
       "    }\n",
       "\n",
       "    .dataframe thead th {\n",
       "        text-align: right;\n",
       "    }\n",
       "</style>\n",
       "<table border=\"1\" class=\"dataframe\">\n",
       "  <thead>\n",
       "    <tr style=\"text-align: right;\">\n",
       "      <th></th>\n",
       "      <th>latitude</th>\n",
       "      <th>longitude</th>\n",
       "      <th>geonameid</th>\n",
       "      <th>apttype</th>\n",
       "      <th>aptclass</th>\n",
       "      <th>authority</th>\n",
       "      <th>status</th>\n",
       "      <th>humuse</th>\n",
       "      <th>country</th>\n",
       "    </tr>\n",
       "  </thead>\n",
       "  <tbody>\n",
       "    <tr>\n",
       "      <th>0</th>\n",
       "      <td>0.062653</td>\n",
       "      <td>-1.671450</td>\n",
       "      <td>0.387542</td>\n",
       "      <td>0.483658</td>\n",
       "      <td>5.199338</td>\n",
       "      <td>-5.199338</td>\n",
       "      <td>0.013801</td>\n",
       "      <td>0.021329</td>\n",
       "      <td>0.017565</td>\n",
       "    </tr>\n",
       "    <tr>\n",
       "      <th>1</th>\n",
       "      <td>-0.142848</td>\n",
       "      <td>-0.424905</td>\n",
       "      <td>0.137221</td>\n",
       "      <td>-0.445919</td>\n",
       "      <td>1.525529</td>\n",
       "      <td>1.258508</td>\n",
       "      <td>0.013801</td>\n",
       "      <td>0.021329</td>\n",
       "      <td>-0.568686</td>\n",
       "    </tr>\n",
       "    <tr>\n",
       "      <th>2</th>\n",
       "      <td>0.008798</td>\n",
       "      <td>-0.411972</td>\n",
       "      <td>0.144779</td>\n",
       "      <td>0.483658</td>\n",
       "      <td>-5.199338</td>\n",
       "      <td>-5.199338</td>\n",
       "      <td>0.013801</td>\n",
       "      <td>0.021329</td>\n",
       "      <td>-0.568686</td>\n",
       "    </tr>\n",
       "    <tr>\n",
       "      <th>3</th>\n",
       "      <td>0.068890</td>\n",
       "      <td>-0.421180</td>\n",
       "      <td>1.033647</td>\n",
       "      <td>-5.199338</td>\n",
       "      <td>-5.199338</td>\n",
       "      <td>1.644369</td>\n",
       "      <td>0.013801</td>\n",
       "      <td>0.021329</td>\n",
       "      <td>-0.568686</td>\n",
       "    </tr>\n",
       "    <tr>\n",
       "      <th>4</th>\n",
       "      <td>0.241817</td>\n",
       "      <td>-0.398907</td>\n",
       "      <td>0.138307</td>\n",
       "      <td>-5.199338</td>\n",
       "      <td>-5.199338</td>\n",
       "      <td>-5.199338</td>\n",
       "      <td>0.013801</td>\n",
       "      <td>0.021329</td>\n",
       "      <td>-0.568686</td>\n",
       "    </tr>\n",
       "  </tbody>\n",
       "</table>\n",
       "</div>"
      ],
      "text/plain": [
       "   latitude  longitude  geonameid   apttype  aptclass  authority    status  \\\n",
       "0  0.062653  -1.671450   0.387542  0.483658  5.199338  -5.199338  0.013801   \n",
       "1 -0.142848  -0.424905   0.137221 -0.445919  1.525529   1.258508  0.013801   \n",
       "2  0.008798  -0.411972   0.144779  0.483658 -5.199338  -5.199338  0.013801   \n",
       "3  0.068890  -0.421180   1.033647 -5.199338 -5.199338   1.644369  0.013801   \n",
       "4  0.241817  -0.398907   0.138307 -5.199338 -5.199338  -5.199338  0.013801   \n",
       "\n",
       "     humuse   country  \n",
       "0  0.021329  0.017565  \n",
       "1  0.021329 -0.568686  \n",
       "2  0.021329 -0.568686  \n",
       "3  0.021329 -0.568686  \n",
       "4  0.021329 -0.568686  "
      ]
     },
     "execution_count": 851,
     "metadata": {},
     "output_type": "execute_result"
    }
   ],
   "source": [
    "X.head()"
   ]
  },
  {
   "cell_type": "code",
   "execution_count": 852,
   "id": "8fb19fbf",
   "metadata": {},
   "outputs": [],
   "source": [
    "Data['time_interval'] = Data['time_interval'].astype(int)"
   ]
  },
  {
   "cell_type": "code",
   "execution_count": 853,
   "id": "f837acc9",
   "metadata": {},
   "outputs": [
    {
     "data": {
      "text/plain": [
       "(6447,)"
      ]
     },
     "execution_count": 853,
     "metadata": {},
     "output_type": "execute_result"
    }
   ],
   "source": [
    "y.shape"
   ]
  },
  {
   "cell_type": "code",
   "execution_count": 854,
   "id": "06bb73db",
   "metadata": {},
   "outputs": [],
   "source": [
    "y = y.values.reshape(-1, 1)"
   ]
  },
  {
   "cell_type": "code",
   "execution_count": 855,
   "id": "f4aa9f50",
   "metadata": {},
   "outputs": [
    {
     "data": {
      "text/plain": [
       "(6447, 1)"
      ]
     },
     "execution_count": 855,
     "metadata": {},
     "output_type": "execute_result"
    }
   ],
   "source": [
    "y.shape"
   ]
  },
  {
   "cell_type": "markdown",
   "id": "88435100",
   "metadata": {},
   "source": [
    "###### Correlation"
   ]
  },
  {
   "cell_type": "code",
   "execution_count": 856,
   "id": "7230d160",
   "metadata": {},
   "outputs": [],
   "source": [
    "\n",
    "correlation_matrix = Data.corr()"
   ]
  },
  {
   "cell_type": "code",
   "execution_count": 857,
   "id": "8fcf8589",
   "metadata": {},
   "outputs": [
    {
     "data": {
      "image/png": "[encoded data removed]",
      "text/plain": [
       "<Figure size 720x432 with 2 Axes>"
      ]
     },
     "metadata": {
      "needs_background": "light"
     },
     "output_type": "display_data"
    }
   ],
   "source": [
    "font_title = {'fontsize': 16, 'fontweight': 'bold', 'fontfamily': 'Arial'}\n",
    "\n",
    "plt.figure(figsize=(10, 6))\n",
    "sns.heatmap(correlation_matrix, square=True, annot=True, linewidths=.5, vmin=-1, vmax=1, cmap='viridis')\n",
    "plt.title(\"Correlation Matrix\", fontdict=font_title)\n",
    "\n",
    "plt.show()"
   ]
  },
  {
   "cell_type": "markdown",
   "id": "8f18762e",
   "metadata": {},
   "source": [
    "###### Feature selection using mutual information"
   ]
  },
  {
   "cell_type": "code",
   "execution_count": 858,
   "id": "f4859671",
   "metadata": {},
   "outputs": [],
   "source": [
    "selector = SelectKBest(lambda X,y : mutual_info_regression(X,y, discrete_features=True),k = 5)"
   ]
  },
  {
   "cell_type": "code",
   "execution_count": 859,
   "id": "902d717b",
   "metadata": {
    "scrolled": true
   },
   "outputs": [
    {
     "data": {
      "text/plain": [
       "array([[ 0.06265313, -1.67144966,  0.38754213,  0.48365797,  0.01756487],\n",
       "       [-0.14284844, -0.42490537,  0.13722066, -0.44591914, -0.56868553],\n",
       "       [ 0.0087984 , -0.41197244,  0.14477866,  0.48365797, -0.56868553],\n",
       "       ...,\n",
       "       [ 0.03665008, -1.6025801 ,  5.19933758,  0.48365797,  0.01756487],\n",
       "       [-0.02156605, -1.52773464,  5.19933758,  0.48365797,  0.01756487],\n",
       "       [ 0.14418077, -1.65446326,  0.62109914, -0.44591914,  0.01756487]])"
      ]
     },
     "execution_count": 859,
     "metadata": {},
     "output_type": "execute_result"
    }
   ],
   "source": [
    "selector.fit_transform(X,y)"
   ]
  },
  {
   "cell_type": "code",
   "execution_count": 860,
   "id": "ecf69d19",
   "metadata": {},
   "outputs": [
    {
     "data": {
      "text/plain": [
       "Index(['latitude', 'longitude', 'geonameid', 'apttype', 'country'], dtype='object')"
      ]
     },
     "execution_count": 860,
     "metadata": {},
     "output_type": "execute_result"
    }
   ],
   "source": [
    "X.columns[selector.get_support()]"
   ]
  },
  {
   "cell_type": "code",
   "execution_count": 861,
   "id": "c10a11e6",
   "metadata": {},
   "outputs": [],
   "source": [
    "X = X[X.columns[selector.get_support()]]"
   ]
  },
  {
   "cell_type": "code",
   "execution_count": 862,
   "id": "66499713",
   "metadata": {},
   "outputs": [
    {
     "data": {
      "text/plain": [
       "(6447, 5)"
      ]
     },
     "execution_count": 862,
     "metadata": {},
     "output_type": "execute_result"
    }
   ],
   "source": [
    "X.shape"
   ]
  },
  {
   "cell_type": "code",
   "execution_count": 863,
   "id": "20787bf2",
   "metadata": {},
   "outputs": [
    {
     "data": {
      "text/plain": [
       "(6447, 1)"
      ]
     },
     "execution_count": 863,
     "metadata": {},
     "output_type": "execute_result"
    }
   ],
   "source": [
    "y.shape"
   ]
  },
  {
   "cell_type": "code",
   "execution_count": 864,
   "id": "a7dee552",
   "metadata": {
    "scrolled": true
   },
   "outputs": [
    {
     "data": {
      "text/html": [
       "<div>\n",
       "<style scoped>\n",
       "    .dataframe tbody tr th:only-of-type {\n",
       "        vertical-align: middle;\n",
       "    }\n",
       "\n",
       "    .dataframe tbody tr th {\n",
       "        vertical-align: top;\n",
       "    }\n",
       "\n",
       "    .dataframe thead th {\n",
       "        text-align: right;\n",
       "    }\n",
       "</style>\n",
       "<table border=\"1\" class=\"dataframe\">\n",
       "  <thead>\n",
       "    <tr style=\"text-align: right;\">\n",
       "      <th></th>\n",
       "      <th>latitude</th>\n",
       "      <th>longitude</th>\n",
       "      <th>geonameid</th>\n",
       "      <th>apttype</th>\n",
       "      <th>country</th>\n",
       "    </tr>\n",
       "  </thead>\n",
       "  <tbody>\n",
       "    <tr>\n",
       "      <th>0</th>\n",
       "      <td>0.062653</td>\n",
       "      <td>-1.671450</td>\n",
       "      <td>0.387542</td>\n",
       "      <td>0.483658</td>\n",
       "      <td>0.017565</td>\n",
       "    </tr>\n",
       "    <tr>\n",
       "      <th>1</th>\n",
       "      <td>-0.142848</td>\n",
       "      <td>-0.424905</td>\n",
       "      <td>0.137221</td>\n",
       "      <td>-0.445919</td>\n",
       "      <td>-0.568686</td>\n",
       "    </tr>\n",
       "    <tr>\n",
       "      <th>2</th>\n",
       "      <td>0.008798</td>\n",
       "      <td>-0.411972</td>\n",
       "      <td>0.144779</td>\n",
       "      <td>0.483658</td>\n",
       "      <td>-0.568686</td>\n",
       "    </tr>\n",
       "    <tr>\n",
       "      <th>3</th>\n",
       "      <td>0.068890</td>\n",
       "      <td>-0.421180</td>\n",
       "      <td>1.033647</td>\n",
       "      <td>-5.199338</td>\n",
       "      <td>-0.568686</td>\n",
       "    </tr>\n",
       "    <tr>\n",
       "      <th>4</th>\n",
       "      <td>0.241817</td>\n",
       "      <td>-0.398907</td>\n",
       "      <td>0.138307</td>\n",
       "      <td>-5.199338</td>\n",
       "      <td>-0.568686</td>\n",
       "    </tr>\n",
       "  </tbody>\n",
       "</table>\n",
       "</div>"
      ],
      "text/plain": [
       "   latitude  longitude  geonameid   apttype   country\n",
       "0  0.062653  -1.671450   0.387542  0.483658  0.017565\n",
       "1 -0.142848  -0.424905   0.137221 -0.445919 -0.568686\n",
       "2  0.008798  -0.411972   0.144779  0.483658 -0.568686\n",
       "3  0.068890  -0.421180   1.033647 -5.199338 -0.568686\n",
       "4  0.241817  -0.398907   0.138307 -5.199338 -0.568686"
      ]
     },
     "execution_count": 864,
     "metadata": {},
     "output_type": "execute_result"
    }
   ],
   "source": [
    "X.head()"
   ]
  },
  {
   "cell_type": "code",
   "execution_count": 865,
   "id": "ed41bf27",
   "metadata": {},
   "outputs": [
    {
     "data": {
      "image/png": "[encoded data removed]",
      "text/plain": [
       "<Figure size 936x1152 with 6 Axes>"
      ]
     },
     "metadata": {
      "needs_background": "light"
     },
     "output_type": "display_data"
    }
   ],
   "source": [
    "X.hist(column=X.columns,figsize=(13,16))\n",
    "plt.subplots_adjust(wspace=0.5,hspace=0.5)\n",
    "plt.show()"
   ]
  },
  {
   "cell_type": "code",
   "execution_count": 866,
   "id": "92764c2a",
   "metadata": {},
   "outputs": [
    {
     "data": {
      "image/png": "[encoded data removed]",
      "text/plain": [
       "<Figure size 432x288 with 1 Axes>"
      ]
     },
     "metadata": {
      "needs_background": "light"
     },
     "output_type": "display_data"
    }
   ],
   "source": [
    "plt.title('Time interval - Country', fontsize=16)\n",
    "\n",
    "sns.regplot(x=Data.time_interval, y=Data.country)\n",
    "\n",
    "plt.show()"
   ]
  },
  {
   "cell_type": "code",
   "execution_count": 867,
   "id": "ae8fe7e7",
   "metadata": {},
   "outputs": [
    {
     "data": {
      "image/png": "[encoded data removed]",
      "text/plain": [
       "<Figure size 432x288 with 1 Axes>"
      ]
     },
     "metadata": {
      "needs_background": "light"
     },
     "output_type": "display_data"
    }
   ],
   "source": [
    "plt.title('Time interval by days ', fontsize=18)\n",
    "sns.distplot(Data.time_interval)\n",
    "\n",
    "plt.show()"
   ]
  }
 ],
 "metadata": {
  "kernelspec": {
   "display_name": "ml",
   "language": "python",
   "name": "ml"
  },
  "language_info": {
   "codemirror_mode": {
    "name": "ipython",
    "version": 3
   },
   "file_extension": ".py",
   "mimetype": "text/x-python",
   "name": "python",
   "nbconvert_exporter": "python",
   "pygments_lexer": "ipython3",
   "version": "3.9.12"
  }
 },
 "nbformat": 4,
 "nbformat_minor": 5
}
