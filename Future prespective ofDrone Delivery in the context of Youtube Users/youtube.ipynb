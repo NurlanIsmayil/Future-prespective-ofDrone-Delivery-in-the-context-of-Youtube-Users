{
 "cells": [
  {
   "cell_type": "code",
   "execution_count": 1,
   "id": "47cdebc7",
   "metadata": {},
   "outputs": [
    {
     "name": "stderr",
     "output_type": "stream",
     "text": [
      "C:\\anaconda3\\lib\\site-packages\\scipy\\__init__.py:146: UserWarning: A NumPy version >=1.16.5 and <1.23.0 is required for this version of SciPy (detected version 1.25.0\n",
      "  warnings.warn(f\"A NumPy version >={np_minversion} and <{np_maxversion}\"\n"
     ]
    }
   ],
   "source": [
    "import numpy as np\n",
    "import pandas as pd\n",
    "import matplotlib.pyplot as plt\n",
    "import seaborn as sns\n",
    "\n",
    "import warnings\n",
    "warnings.filterwarnings('ignore')\n",
    "\n",
    "from sklearn.preprocessing import LabelEncoder\n",
    "from sklearn.utils import resample\n",
    "from sklearn.feature_extraction.text import CountVectorizer\n",
    "from nltk.sentiment.vader import SentimentIntensityAnalyzer\n",
    "\n",
    "from nltk.tokenize import word_tokenize\n",
    "from nltk.stem import WordNetLemmatizer\n",
    "from nltk.stem import PorterStemmer, LancasterStemmer\n",
    "from nltk.stem.snowball import SnowballStemmer\n",
    "from nltk.corpus import stopwords\n",
    "from nltk.corpus import wordnet\n",
    "import string\n",
    "from string import punctuation\n",
    "import nltk\n",
    "import re\n",
    "\n",
    "from statsmodels.tsa.statespace.sarimax import SARIMAX\n",
    "\n",
    "from statsmodels.graphics.tsaplots import plot_acf,plot_pacf \n",
    "from statsmodels.tsa.seasonal import seasonal_decompose    \n",
    "from pmdarima import auto_arima  "
   ]
  },
  {
   "cell_type": "code",
   "execution_count": 2,
   "id": "5ea55fb9",
   "metadata": {},
   "outputs": [],
   "source": [
    "Data = pd.read_excel('C:\\\\Users\\\\Galaxy Computers\\\\Desktop\\\\Raw_Youtube_Comments.xlsx')"
   ]
  },
  {
   "cell_type": "code",
   "execution_count": 3,
   "id": "05d87464",
   "metadata": {},
   "outputs": [
    {
     "data": {
      "text/html": [
       "<div>\n",
       "<style scoped>\n",
       "    .dataframe tbody tr th:only-of-type {\n",
       "        vertical-align: middle;\n",
       "    }\n",
       "\n",
       "    .dataframe tbody tr th {\n",
       "        vertical-align: top;\n",
       "    }\n",
       "\n",
       "    .dataframe thead th {\n",
       "        text-align: right;\n",
       "    }\n",
       "</style>\n",
       "<table border=\"1\" class=\"dataframe\">\n",
       "  <thead>\n",
       "    <tr style=\"text-align: right;\">\n",
       "      <th></th>\n",
       "      <th>Name</th>\n",
       "      <th>Comment</th>\n",
       "      <th>Time</th>\n",
       "      <th>Likes</th>\n",
       "      <th>Reply Count</th>\n",
       "      <th>Reply Author</th>\n",
       "      <th>Reply</th>\n",
       "      <th>Published</th>\n",
       "      <th>Updated</th>\n",
       "    </tr>\n",
       "  </thead>\n",
       "  <tbody>\n",
       "    <tr>\n",
       "      <th>0</th>\n",
       "      <td>Beast</td>\n",
       "      <td>Birds knocking them out of the sky and droppin...</td>\n",
       "      <td>2023-06-23T13:16:02Z</td>\n",
       "      <td>0</td>\n",
       "      <td>0</td>\n",
       "      <td>NaN</td>\n",
       "      <td>NaN</td>\n",
       "      <td>NaN</td>\n",
       "      <td>NaN</td>\n",
       "    </tr>\n",
       "    <tr>\n",
       "      <th>1</th>\n",
       "      <td>Terabai Avionics System</td>\n",
       "      <td>this technology needs to be polished, it has p...</td>\n",
       "      <td>2023-06-23T09:04:56Z</td>\n",
       "      <td>0</td>\n",
       "      <td>0</td>\n",
       "      <td>NaN</td>\n",
       "      <td>NaN</td>\n",
       "      <td>NaN</td>\n",
       "      <td>NaN</td>\n",
       "    </tr>\n",
       "    <tr>\n",
       "      <th>2</th>\n",
       "      <td>Kalie Parkin</td>\n",
       "      <td>What a stupid idea. This is just Jeff Bezos wa...</td>\n",
       "      <td>2023-06-14T13:18:45Z</td>\n",
       "      <td>0</td>\n",
       "      <td>0</td>\n",
       "      <td>NaN</td>\n",
       "      <td>NaN</td>\n",
       "      <td>NaN</td>\n",
       "      <td>NaN</td>\n",
       "    </tr>\n",
       "    <tr>\n",
       "      <th>3</th>\n",
       "      <td>M R</td>\n",
       "      <td>&lt;a href=\"https://www.youtube.com/watch?v=J-M98...</td>\n",
       "      <td>2023-06-02T08:13:37Z</td>\n",
       "      <td>0</td>\n",
       "      <td>0</td>\n",
       "      <td>NaN</td>\n",
       "      <td>NaN</td>\n",
       "      <td>NaN</td>\n",
       "      <td>NaN</td>\n",
       "    </tr>\n",
       "    <tr>\n",
       "      <th>4</th>\n",
       "      <td>Samuel Francisco García</td>\n",
       "      <td>Me gustó mucho, GRACIAS.</td>\n",
       "      <td>2023-05-30T22:08:54Z</td>\n",
       "      <td>1</td>\n",
       "      <td>0</td>\n",
       "      <td>NaN</td>\n",
       "      <td>NaN</td>\n",
       "      <td>NaN</td>\n",
       "      <td>NaN</td>\n",
       "    </tr>\n",
       "  </tbody>\n",
       "</table>\n",
       "</div>"
      ],
      "text/plain": [
       "                      Name                                            Comment  \\\n",
       "0                    Beast  Birds knocking them out of the sky and droppin...   \n",
       "1  Terabai Avionics System  this technology needs to be polished, it has p...   \n",
       "2             Kalie Parkin  What a stupid idea. This is just Jeff Bezos wa...   \n",
       "3                      M R  <a href=\"https://www.youtube.com/watch?v=J-M98...   \n",
       "4  Samuel Francisco García                           Me gustó mucho, GRACIAS.   \n",
       "\n",
       "                   Time Likes Reply Count Reply Author Reply Published Updated  \n",
       "0  2023-06-23T13:16:02Z     0           0          NaN   NaN       NaN     NaN  \n",
       "1  2023-06-23T09:04:56Z     0           0          NaN   NaN       NaN     NaN  \n",
       "2  2023-06-14T13:18:45Z     0           0          NaN   NaN       NaN     NaN  \n",
       "3  2023-06-02T08:13:37Z     0           0          NaN   NaN       NaN     NaN  \n",
       "4  2023-05-30T22:08:54Z     1           0          NaN   NaN       NaN     NaN  "
      ]
     },
     "execution_count": 3,
     "metadata": {},
     "output_type": "execute_result"
    }
   ],
   "source": [
    "Data.head()"
   ]
  },
  {
   "cell_type": "markdown",
   "id": "5a398df7",
   "metadata": {},
   "source": [
    "## Data Preprocessing "
   ]
  },
  {
   "cell_type": "code",
   "execution_count": 4,
   "id": "4f48e132",
   "metadata": {},
   "outputs": [
    {
     "data": {
      "text/plain": [
       "641821"
      ]
     },
     "execution_count": 4,
     "metadata": {},
     "output_type": "execute_result"
    }
   ],
   "source": [
    "len(Data)"
   ]
  },
  {
   "cell_type": "code",
   "execution_count": 5,
   "id": "27417c40",
   "metadata": {},
   "outputs": [],
   "source": [
    "df = Data[['Comment','Time','Likes','Reply Count']]"
   ]
  },
  {
   "cell_type": "code",
   "execution_count": 6,
   "id": "8b095135",
   "metadata": {},
   "outputs": [
    {
     "name": "stdout",
     "output_type": "stream",
     "text": [
      "<class 'pandas.core.frame.DataFrame'>\n",
      "RangeIndex: 641821 entries, 0 to 641820\n",
      "Data columns (total 4 columns):\n",
      " #   Column       Non-Null Count   Dtype \n",
      "---  ------       --------------   ----- \n",
      " 0   Comment      522461 non-null  object\n",
      " 1   Time         522461 non-null  object\n",
      " 2   Likes        522429 non-null  object\n",
      " 3   Reply Count  522429 non-null  object\n",
      "dtypes: object(4)\n",
      "memory usage: 19.6+ MB\n"
     ]
    }
   ],
   "source": [
    "df.info()"
   ]
  },
  {
   "cell_type": "code",
   "execution_count": 7,
   "id": "ae3ab2d0",
   "metadata": {},
   "outputs": [],
   "source": [
    "df.dropna(inplace=True)"
   ]
  },
  {
   "cell_type": "code",
   "execution_count": 8,
   "id": "1d89d99f",
   "metadata": {},
   "outputs": [
    {
     "data": {
      "text/plain": [
       "522429"
      ]
     },
     "execution_count": 8,
     "metadata": {},
     "output_type": "execute_result"
    }
   ],
   "source": [
    "len(df)"
   ]
  },
  {
   "cell_type": "code",
   "execution_count": 9,
   "id": "d4c615f0",
   "metadata": {},
   "outputs": [
    {
     "data": {
      "text/html": [
       "<div>\n",
       "<style scoped>\n",
       "    .dataframe tbody tr th:only-of-type {\n",
       "        vertical-align: middle;\n",
       "    }\n",
       "\n",
       "    .dataframe tbody tr th {\n",
       "        vertical-align: top;\n",
       "    }\n",
       "\n",
       "    .dataframe thead th {\n",
       "        text-align: right;\n",
       "    }\n",
       "</style>\n",
       "<table border=\"1\" class=\"dataframe\">\n",
       "  <thead>\n",
       "    <tr style=\"text-align: right;\">\n",
       "      <th></th>\n",
       "      <th>Comment</th>\n",
       "      <th>Time</th>\n",
       "      <th>Likes</th>\n",
       "      <th>Reply Count</th>\n",
       "    </tr>\n",
       "  </thead>\n",
       "  <tbody>\n",
       "    <tr>\n",
       "      <th>0</th>\n",
       "      <td>Birds knocking them out of the sky and droppin...</td>\n",
       "      <td>2023-06-23T13:16:02Z</td>\n",
       "      <td>0</td>\n",
       "      <td>0</td>\n",
       "    </tr>\n",
       "    <tr>\n",
       "      <th>1</th>\n",
       "      <td>this technology needs to be polished, it has p...</td>\n",
       "      <td>2023-06-23T09:04:56Z</td>\n",
       "      <td>0</td>\n",
       "      <td>0</td>\n",
       "    </tr>\n",
       "    <tr>\n",
       "      <th>2</th>\n",
       "      <td>What a stupid idea. This is just Jeff Bezos wa...</td>\n",
       "      <td>2023-06-14T13:18:45Z</td>\n",
       "      <td>0</td>\n",
       "      <td>0</td>\n",
       "    </tr>\n",
       "    <tr>\n",
       "      <th>3</th>\n",
       "      <td>&lt;a href=\"https://www.youtube.com/watch?v=J-M98...</td>\n",
       "      <td>2023-06-02T08:13:37Z</td>\n",
       "      <td>0</td>\n",
       "      <td>0</td>\n",
       "    </tr>\n",
       "    <tr>\n",
       "      <th>4</th>\n",
       "      <td>Me gustó mucho, GRACIAS.</td>\n",
       "      <td>2023-05-30T22:08:54Z</td>\n",
       "      <td>1</td>\n",
       "      <td>0</td>\n",
       "    </tr>\n",
       "  </tbody>\n",
       "</table>\n",
       "</div>"
      ],
      "text/plain": [
       "                                             Comment                  Time  \\\n",
       "0  Birds knocking them out of the sky and droppin...  2023-06-23T13:16:02Z   \n",
       "1  this technology needs to be polished, it has p...  2023-06-23T09:04:56Z   \n",
       "2  What a stupid idea. This is just Jeff Bezos wa...  2023-06-14T13:18:45Z   \n",
       "3  <a href=\"https://www.youtube.com/watch?v=J-M98...  2023-06-02T08:13:37Z   \n",
       "4                           Me gustó mucho, GRACIAS.  2023-05-30T22:08:54Z   \n",
       "\n",
       "  Likes Reply Count  \n",
       "0     0           0  \n",
       "1     0           0  \n",
       "2     0           0  \n",
       "3     0           0  \n",
       "4     1           0  "
      ]
     },
     "execution_count": 9,
     "metadata": {},
     "output_type": "execute_result"
    }
   ],
   "source": [
    "df.head()"
   ]
  },
  {
   "cell_type": "markdown",
   "id": "4e41e877",
   "metadata": {},
   "source": [
    "### Datatransformation"
   ]
  },
  {
   "cell_type": "markdown",
   "id": "11ea5a99",
   "metadata": {},
   "source": [
    "###### Data labelling\n"
   ]
  },
  {
   "cell_type": "code",
   "execution_count": 10,
   "id": "0de4a9c8",
   "metadata": {},
   "outputs": [
    {
     "name": "stderr",
     "output_type": "stream",
     "text": [
      "[nltk_data] Downloading package vader_lexicon to C:\\Users\\Galaxy\n",
      "[nltk_data]     Computers\\AppData\\Roaming\\nltk_data...\n",
      "[nltk_data]   Package vader_lexicon is already up-to-date!\n"
     ]
    },
    {
     "data": {
      "text/html": [
       "<div>\n",
       "<style scoped>\n",
       "    .dataframe tbody tr th:only-of-type {\n",
       "        vertical-align: middle;\n",
       "    }\n",
       "\n",
       "    .dataframe tbody tr th {\n",
       "        vertical-align: top;\n",
       "    }\n",
       "\n",
       "    .dataframe thead th {\n",
       "        text-align: right;\n",
       "    }\n",
       "</style>\n",
       "<table border=\"1\" class=\"dataframe\">\n",
       "  <thead>\n",
       "    <tr style=\"text-align: right;\">\n",
       "      <th></th>\n",
       "      <th>Comment</th>\n",
       "      <th>Time</th>\n",
       "      <th>Likes</th>\n",
       "      <th>Reply Count</th>\n",
       "      <th>Positive</th>\n",
       "      <th>Negative</th>\n",
       "      <th>Neutral</th>\n",
       "      <th>Compound</th>\n",
       "      <th>Sentiment</th>\n",
       "    </tr>\n",
       "  </thead>\n",
       "  <tbody>\n",
       "    <tr>\n",
       "      <th>0</th>\n",
       "      <td>Birds knocking them out of the sky and droppin...</td>\n",
       "      <td>2023-06-23T13:16:02Z</td>\n",
       "      <td>0</td>\n",
       "      <td>0</td>\n",
       "      <td>0.000</td>\n",
       "      <td>0.138</td>\n",
       "      <td>0.862</td>\n",
       "      <td>-0.3400</td>\n",
       "      <td>Negative</td>\n",
       "    </tr>\n",
       "    <tr>\n",
       "      <th>1</th>\n",
       "      <td>this technology needs to be polished, it has p...</td>\n",
       "      <td>2023-06-23T09:04:56Z</td>\n",
       "      <td>0</td>\n",
       "      <td>0</td>\n",
       "      <td>0.000</td>\n",
       "      <td>0.000</td>\n",
       "      <td>1.000</td>\n",
       "      <td>0.0000</td>\n",
       "      <td>Neutral</td>\n",
       "    </tr>\n",
       "    <tr>\n",
       "      <th>2</th>\n",
       "      <td>What a stupid idea. This is just Jeff Bezos wa...</td>\n",
       "      <td>2023-06-14T13:18:45Z</td>\n",
       "      <td>0</td>\n",
       "      <td>0</td>\n",
       "      <td>0.041</td>\n",
       "      <td>0.207</td>\n",
       "      <td>0.752</td>\n",
       "      <td>-0.7033</td>\n",
       "      <td>Negative</td>\n",
       "    </tr>\n",
       "    <tr>\n",
       "      <th>3</th>\n",
       "      <td>&lt;a href=\"https://www.youtube.com/watch?v=J-M98...</td>\n",
       "      <td>2023-06-02T08:13:37Z</td>\n",
       "      <td>0</td>\n",
       "      <td>0</td>\n",
       "      <td>0.109</td>\n",
       "      <td>0.087</td>\n",
       "      <td>0.804</td>\n",
       "      <td>0.4359</td>\n",
       "      <td>Positive</td>\n",
       "    </tr>\n",
       "    <tr>\n",
       "      <th>4</th>\n",
       "      <td>Me gustó mucho, GRACIAS.</td>\n",
       "      <td>2023-05-30T22:08:54Z</td>\n",
       "      <td>1</td>\n",
       "      <td>0</td>\n",
       "      <td>0.000</td>\n",
       "      <td>0.000</td>\n",
       "      <td>1.000</td>\n",
       "      <td>0.0000</td>\n",
       "      <td>Neutral</td>\n",
       "    </tr>\n",
       "  </tbody>\n",
       "</table>\n",
       "</div>"
      ],
      "text/plain": [
       "                                             Comment                  Time  \\\n",
       "0  Birds knocking them out of the sky and droppin...  2023-06-23T13:16:02Z   \n",
       "1  this technology needs to be polished, it has p...  2023-06-23T09:04:56Z   \n",
       "2  What a stupid idea. This is just Jeff Bezos wa...  2023-06-14T13:18:45Z   \n",
       "3  <a href=\"https://www.youtube.com/watch?v=J-M98...  2023-06-02T08:13:37Z   \n",
       "4                           Me gustó mucho, GRACIAS.  2023-05-30T22:08:54Z   \n",
       "\n",
       "  Likes Reply Count  Positive  Negative  Neutral  Compound Sentiment  \n",
       "0     0           0     0.000     0.138    0.862   -0.3400  Negative  \n",
       "1     0           0     0.000     0.000    1.000    0.0000   Neutral  \n",
       "2     0           0     0.041     0.207    0.752   -0.7033  Negative  \n",
       "3     0           0     0.109     0.087    0.804    0.4359  Positive  \n",
       "4     1           0     0.000     0.000    1.000    0.0000   Neutral  "
      ]
     },
     "execution_count": 10,
     "metadata": {},
     "output_type": "execute_result"
    }
   ],
   "source": [
    "import nltk\n",
    "from nltk.sentiment import SentimentIntensityAnalyzer\n",
    "nltk.download('vader_lexicon')\n",
    "\n",
    "df['Comment'] = df['Comment'].astype(str)\n",
    "\n",
    "sentiments = SentimentIntensityAnalyzer()\n",
    "df[\"Positive\"] = [sentiments.polarity_scores(i)[\"pos\"] for i in df[\"Comment\"]]\n",
    "df[\"Negative\"] = [sentiments.polarity_scores(i)[\"neg\"] for i in df[\"Comment\"]]\n",
    "df[\"Neutral\"] = [sentiments.polarity_scores(i)[\"neu\"] for i in df[\"Comment\"]]\n",
    "df['Compound'] = [sentiments.polarity_scores(i)[\"compound\"] for i in df[\"Comment\"]]\n",
    "score = df[\"Compound\"].values\n",
    "sentiment = []\n",
    "for i in score:\n",
    "    if i >= 0.05 :\n",
    "        sentiment.append('Positive')\n",
    "    elif i <= -0.05 :\n",
    "        sentiment.append('Negative')\n",
    "    else:\n",
    "        sentiment.append('Neutral')\n",
    "df[\"Sentiment\"] = sentiment\n",
    "df.head()"
   ]
  },
  {
   "cell_type": "code",
   "execution_count": 11,
   "id": "41e56b0a",
   "metadata": {},
   "outputs": [
    {
     "data": {
      "text/html": [
       "<div>\n",
       "<style scoped>\n",
       "    .dataframe tbody tr th:only-of-type {\n",
       "        vertical-align: middle;\n",
       "    }\n",
       "\n",
       "    .dataframe tbody tr th {\n",
       "        vertical-align: top;\n",
       "    }\n",
       "\n",
       "    .dataframe thead th {\n",
       "        text-align: right;\n",
       "    }\n",
       "</style>\n",
       "<table border=\"1\" class=\"dataframe\">\n",
       "  <thead>\n",
       "    <tr style=\"text-align: right;\">\n",
       "      <th></th>\n",
       "      <th>Comment</th>\n",
       "      <th>Time</th>\n",
       "      <th>Likes</th>\n",
       "      <th>Reply Count</th>\n",
       "      <th>Sentiment</th>\n",
       "    </tr>\n",
       "  </thead>\n",
       "  <tbody>\n",
       "    <tr>\n",
       "      <th>0</th>\n",
       "      <td>Birds knocking them out of the sky and droppin...</td>\n",
       "      <td>2023-06-23T13:16:02Z</td>\n",
       "      <td>0</td>\n",
       "      <td>0</td>\n",
       "      <td>Negative</td>\n",
       "    </tr>\n",
       "    <tr>\n",
       "      <th>1</th>\n",
       "      <td>this technology needs to be polished, it has p...</td>\n",
       "      <td>2023-06-23T09:04:56Z</td>\n",
       "      <td>0</td>\n",
       "      <td>0</td>\n",
       "      <td>Neutral</td>\n",
       "    </tr>\n",
       "    <tr>\n",
       "      <th>2</th>\n",
       "      <td>What a stupid idea. This is just Jeff Bezos wa...</td>\n",
       "      <td>2023-06-14T13:18:45Z</td>\n",
       "      <td>0</td>\n",
       "      <td>0</td>\n",
       "      <td>Negative</td>\n",
       "    </tr>\n",
       "    <tr>\n",
       "      <th>3</th>\n",
       "      <td>&lt;a href=\"https://www.youtube.com/watch?v=J-M98...</td>\n",
       "      <td>2023-06-02T08:13:37Z</td>\n",
       "      <td>0</td>\n",
       "      <td>0</td>\n",
       "      <td>Positive</td>\n",
       "    </tr>\n",
       "    <tr>\n",
       "      <th>4</th>\n",
       "      <td>Me gustó mucho, GRACIAS.</td>\n",
       "      <td>2023-05-30T22:08:54Z</td>\n",
       "      <td>1</td>\n",
       "      <td>0</td>\n",
       "      <td>Neutral</td>\n",
       "    </tr>\n",
       "  </tbody>\n",
       "</table>\n",
       "</div>"
      ],
      "text/plain": [
       "                                             Comment                  Time  \\\n",
       "0  Birds knocking them out of the sky and droppin...  2023-06-23T13:16:02Z   \n",
       "1  this technology needs to be polished, it has p...  2023-06-23T09:04:56Z   \n",
       "2  What a stupid idea. This is just Jeff Bezos wa...  2023-06-14T13:18:45Z   \n",
       "3  <a href=\"https://www.youtube.com/watch?v=J-M98...  2023-06-02T08:13:37Z   \n",
       "4                           Me gustó mucho, GRACIAS.  2023-05-30T22:08:54Z   \n",
       "\n",
       "  Likes Reply Count Sentiment  \n",
       "0     0           0  Negative  \n",
       "1     0           0   Neutral  \n",
       "2     0           0  Negative  \n",
       "3     0           0  Positive  \n",
       "4     1           0   Neutral  "
      ]
     },
     "execution_count": 11,
     "metadata": {},
     "output_type": "execute_result"
    }
   ],
   "source": [
    "df=df.drop(['Positive','Negative','Neutral','Compound'],axis=1)\n",
    "df.head()"
   ]
  },
  {
   "cell_type": "code",
   "execution_count": 12,
   "id": "d3c484c1",
   "metadata": {},
   "outputs": [
    {
     "name": "stderr",
     "output_type": "stream",
     "text": [
      "[nltk_data] Downloading package stopwords to C:\\Users\\Galaxy\n",
      "[nltk_data]     Computers\\AppData\\Roaming\\nltk_data...\n",
      "[nltk_data]   Package stopwords is already up-to-date!\n"
     ]
    },
    {
     "data": {
      "text/plain": [
       "True"
      ]
     },
     "execution_count": 12,
     "metadata": {},
     "output_type": "execute_result"
    }
   ],
   "source": [
    "import nltk\n",
    "nltk.data.path.append(\"/path/to/nltk_data\")\n",
    "nltk.download('stopwords')\n"
   ]
  },
  {
   "cell_type": "code",
   "execution_count": 13,
   "id": "70fce389",
   "metadata": {},
   "outputs": [],
   "source": [
    "stop_words = stopwords.words('english')\n",
    "porter_stemmer = PorterStemmer()\n",
    "lancaster_stemmer = LancasterStemmer() \n",
    "snowball_stemer = SnowballStemmer(language=\"english\")\n",
    "lzr = WordNetLemmatizer()"
   ]
  },
  {
   "cell_type": "code",
   "execution_count": 14,
   "id": "aa457e2a",
   "metadata": {},
   "outputs": [],
   "source": [
    "def text_processing(text):   \n",
    "\n",
    "    text = text.lower()\n",
    "\n",
    "    text = re.sub(r'\\n',' ', text)\n",
    "\n",
    "    text = re.sub('[%s]' % re.escape(punctuation), \"\", text)\n",
    "    \n",
    "    text = re.sub(\"^a-zA-Z0-9$,.\", \"\", text)\n",
    "    \n",
    "    text = re.sub(r'\\s+', ' ', text, flags=re.I)\n",
    " \n",
    "    text = re.sub(r'\\W', ' ', text)\n",
    "\n",
    "    text = ' '.join([word for word in word_tokenize(text) if word not in stop_words])\n",
    "  \n",
    "    text=' '.join([lzr.lemmatize(word) for word in word_tokenize(text)])\n",
    "\n",
    "    return text\n"
   ]
  },
  {
   "cell_type": "code",
   "execution_count": 15,
   "id": "f016b9c6",
   "metadata": {},
   "outputs": [
    {
     "name": "stderr",
     "output_type": "stream",
     "text": [
      "[nltk_data] Downloading package wordnet to C:\\Users\\Galaxy\n",
      "[nltk_data]     Computers\\AppData\\Roaming\\nltk_data...\n",
      "[nltk_data]   Package wordnet is already up-to-date!\n",
      "[nltk_data] Downloading package omw-1.4 to C:\\Users\\Galaxy\n",
      "[nltk_data]     Computers\\AppData\\Roaming\\nltk_data...\n",
      "[nltk_data]   Package omw-1.4 is already up-to-date!\n"
     ]
    }
   ],
   "source": [
    "import nltk\n",
    "nltk.download('wordnet')\n",
    "\n",
    "nltk.download('omw-1.4')\n",
    "data_copy = df.copy()\n",
    "data_copy.Comment = data_copy.Comment.apply(lambda text: text_processing(text))\n"
   ]
  },
  {
   "cell_type": "code",
   "execution_count": 16,
   "id": "e58f16c2",
   "metadata": {},
   "outputs": [],
   "source": [
    "le = LabelEncoder()\n",
    "data_copy['Sentiment'] = le.fit_transform(data_copy['Sentiment'])"
   ]
  },
  {
   "cell_type": "code",
   "execution_count": 17,
   "id": "2fa879d4",
   "metadata": {},
   "outputs": [
    {
     "data": {
      "text/html": [
       "<div>\n",
       "<style scoped>\n",
       "    .dataframe tbody tr th:only-of-type {\n",
       "        vertical-align: middle;\n",
       "    }\n",
       "\n",
       "    .dataframe tbody tr th {\n",
       "        vertical-align: top;\n",
       "    }\n",
       "\n",
       "    .dataframe thead th {\n",
       "        text-align: right;\n",
       "    }\n",
       "</style>\n",
       "<table border=\"1\" class=\"dataframe\">\n",
       "  <thead>\n",
       "    <tr style=\"text-align: right;\">\n",
       "      <th></th>\n",
       "      <th>Sentence</th>\n",
       "      <th>Sentiment</th>\n",
       "    </tr>\n",
       "  </thead>\n",
       "  <tbody>\n",
       "    <tr>\n",
       "      <th>0</th>\n",
       "      <td>bird knocking sky dropping people people would...</td>\n",
       "      <td>0</td>\n",
       "    </tr>\n",
       "    <tr>\n",
       "      <th>1</th>\n",
       "      <td>technology need polished potential future</td>\n",
       "      <td>1</td>\n",
       "    </tr>\n",
       "    <tr>\n",
       "      <th>2</th>\n",
       "      <td>stupid idea jeff bezos wanting make money with...</td>\n",
       "      <td>0</td>\n",
       "    </tr>\n",
       "    <tr>\n",
       "      <th>3</th>\n",
       "      <td>hrefhttpswwwyoutubecomwatchvjm98klgauuampt17m3...</td>\n",
       "      <td>2</td>\n",
       "    </tr>\n",
       "    <tr>\n",
       "      <th>4</th>\n",
       "      <td>gustó mucho gracias</td>\n",
       "      <td>1</td>\n",
       "    </tr>\n",
       "  </tbody>\n",
       "</table>\n",
       "</div>"
      ],
      "text/plain": [
       "                                            Sentence  Sentiment\n",
       "0  bird knocking sky dropping people people would...          0\n",
       "1          technology need polished potential future          1\n",
       "2  stupid idea jeff bezos wanting make money with...          0\n",
       "3  hrefhttpswwwyoutubecomwatchvjm98klgauuampt17m3...          2\n",
       "4                                gustó mucho gracias          1"
      ]
     },
     "execution_count": 17,
     "metadata": {},
     "output_type": "execute_result"
    }
   ],
   "source": [
    "processed_data = {\n",
    "    'Sentence':data_copy.Comment,\n",
    "    'Sentiment':data_copy['Sentiment']\n",
    "}\n",
    "\n",
    "processed_data = pd.DataFrame(processed_data)\n",
    "processed_data.head()"
   ]
  },
  {
   "cell_type": "code",
   "execution_count": 18,
   "id": "714edf8f",
   "metadata": {},
   "outputs": [
    {
     "data": {
      "text/plain": [
       "2    274428\n",
       "1    165726\n",
       "0     82275\n",
       "Name: Sentiment, dtype: int64"
      ]
     },
     "execution_count": 18,
     "metadata": {},
     "output_type": "execute_result"
    }
   ],
   "source": [
    "#Negative - 1\n",
    "#Neutral - 0\n",
    "#Positive - 2\n",
    "processed_data['Sentiment'].value_counts()"
   ]
  },
  {
   "cell_type": "code",
   "execution_count": 19,
   "id": "11f88ebb",
   "metadata": {},
   "outputs": [
    {
     "name": "stdout",
     "output_type": "stream",
     "text": [
      "522429\n",
      "522429\n"
     ]
    }
   ],
   "source": [
    "print(len(df))\n",
    "print(len(processed_data))"
   ]
  },
  {
   "cell_type": "code",
   "execution_count": 20,
   "id": "32da8809",
   "metadata": {},
   "outputs": [
    {
     "data": {
      "text/html": [
       "<div>\n",
       "<style scoped>\n",
       "    .dataframe tbody tr th:only-of-type {\n",
       "        vertical-align: middle;\n",
       "    }\n",
       "\n",
       "    .dataframe tbody tr th {\n",
       "        vertical-align: top;\n",
       "    }\n",
       "\n",
       "    .dataframe thead th {\n",
       "        text-align: right;\n",
       "    }\n",
       "</style>\n",
       "<table border=\"1\" class=\"dataframe\">\n",
       "  <thead>\n",
       "    <tr style=\"text-align: right;\">\n",
       "      <th></th>\n",
       "      <th>Sentence</th>\n",
       "      <th>Sentiment</th>\n",
       "    </tr>\n",
       "  </thead>\n",
       "  <tbody>\n",
       "    <tr>\n",
       "      <th>0</th>\n",
       "      <td>bird knocking sky dropping people people would...</td>\n",
       "      <td>0</td>\n",
       "    </tr>\n",
       "    <tr>\n",
       "      <th>1</th>\n",
       "      <td>technology need polished potential future</td>\n",
       "      <td>1</td>\n",
       "    </tr>\n",
       "    <tr>\n",
       "      <th>2</th>\n",
       "      <td>stupid idea jeff bezos wanting make money with...</td>\n",
       "      <td>0</td>\n",
       "    </tr>\n",
       "    <tr>\n",
       "      <th>3</th>\n",
       "      <td>hrefhttpswwwyoutubecomwatchvjm98klgauuampt17m3...</td>\n",
       "      <td>2</td>\n",
       "    </tr>\n",
       "    <tr>\n",
       "      <th>4</th>\n",
       "      <td>gustó mucho gracias</td>\n",
       "      <td>1</td>\n",
       "    </tr>\n",
       "  </tbody>\n",
       "</table>\n",
       "</div>"
      ],
      "text/plain": [
       "                                            Sentence  Sentiment\n",
       "0  bird knocking sky dropping people people would...          0\n",
       "1          technology need polished potential future          1\n",
       "2  stupid idea jeff bezos wanting make money with...          0\n",
       "3  hrefhttpswwwyoutubecomwatchvjm98klgauuampt17m3...          2\n",
       "4                                gustó mucho gracias          1"
      ]
     },
     "execution_count": 20,
     "metadata": {},
     "output_type": "execute_result"
    }
   ],
   "source": [
    "processed_data.head()"
   ]
  },
  {
   "cell_type": "code",
   "execution_count": 21,
   "id": "880c0628",
   "metadata": {},
   "outputs": [
    {
     "data": {
      "text/html": [
       "<div>\n",
       "<style scoped>\n",
       "    .dataframe tbody tr th:only-of-type {\n",
       "        vertical-align: middle;\n",
       "    }\n",
       "\n",
       "    .dataframe tbody tr th {\n",
       "        vertical-align: top;\n",
       "    }\n",
       "\n",
       "    .dataframe thead th {\n",
       "        text-align: right;\n",
       "    }\n",
       "</style>\n",
       "<table border=\"1\" class=\"dataframe\">\n",
       "  <thead>\n",
       "    <tr style=\"text-align: right;\">\n",
       "      <th></th>\n",
       "      <th>Comment</th>\n",
       "      <th>Time</th>\n",
       "      <th>Likes</th>\n",
       "      <th>Reply Count</th>\n",
       "      <th>Sentiment</th>\n",
       "    </tr>\n",
       "  </thead>\n",
       "  <tbody>\n",
       "    <tr>\n",
       "      <th>0</th>\n",
       "      <td>bird knocking sky dropping people people would...</td>\n",
       "      <td>2023-06-23T13:16:02Z</td>\n",
       "      <td>0</td>\n",
       "      <td>0</td>\n",
       "      <td>0</td>\n",
       "    </tr>\n",
       "    <tr>\n",
       "      <th>1</th>\n",
       "      <td>technology need polished potential future</td>\n",
       "      <td>2023-06-23T09:04:56Z</td>\n",
       "      <td>0</td>\n",
       "      <td>0</td>\n",
       "      <td>1</td>\n",
       "    </tr>\n",
       "    <tr>\n",
       "      <th>2</th>\n",
       "      <td>stupid idea jeff bezos wanting make money with...</td>\n",
       "      <td>2023-06-14T13:18:45Z</td>\n",
       "      <td>0</td>\n",
       "      <td>0</td>\n",
       "      <td>0</td>\n",
       "    </tr>\n",
       "    <tr>\n",
       "      <th>3</th>\n",
       "      <td>hrefhttpswwwyoutubecomwatchvjm98klgauuampt17m3...</td>\n",
       "      <td>2023-06-02T08:13:37Z</td>\n",
       "      <td>0</td>\n",
       "      <td>0</td>\n",
       "      <td>2</td>\n",
       "    </tr>\n",
       "    <tr>\n",
       "      <th>4</th>\n",
       "      <td>gustó mucho gracias</td>\n",
       "      <td>2023-05-30T22:08:54Z</td>\n",
       "      <td>1</td>\n",
       "      <td>0</td>\n",
       "      <td>1</td>\n",
       "    </tr>\n",
       "  </tbody>\n",
       "</table>\n",
       "</div>"
      ],
      "text/plain": [
       "                                             Comment                  Time  \\\n",
       "0  bird knocking sky dropping people people would...  2023-06-23T13:16:02Z   \n",
       "1          technology need polished potential future  2023-06-23T09:04:56Z   \n",
       "2  stupid idea jeff bezos wanting make money with...  2023-06-14T13:18:45Z   \n",
       "3  hrefhttpswwwyoutubecomwatchvjm98klgauuampt17m3...  2023-06-02T08:13:37Z   \n",
       "4                                gustó mucho gracias  2023-05-30T22:08:54Z   \n",
       "\n",
       "  Likes Reply Count  Sentiment  \n",
       "0     0           0          0  \n",
       "1     0           0          1  \n",
       "2     0           0          0  \n",
       "3     0           0          2  \n",
       "4     1           0          1  "
      ]
     },
     "execution_count": 21,
     "metadata": {},
     "output_type": "execute_result"
    }
   ],
   "source": [
    "data_copy.head()"
   ]
  },
  {
   "cell_type": "code",
   "execution_count": 22,
   "id": "f474b4ab",
   "metadata": {},
   "outputs": [],
   "source": [
    "fin_data = pd.concat([data_copy[['Time', 'Likes', 'Reply Count']], processed_data[['Sentiment', 'Sentence']]], axis=1)\n"
   ]
  },
  {
   "cell_type": "code",
   "execution_count": 23,
   "id": "5d8255a1",
   "metadata": {},
   "outputs": [
    {
     "data": {
      "text/html": [
       "<div>\n",
       "<style scoped>\n",
       "    .dataframe tbody tr th:only-of-type {\n",
       "        vertical-align: middle;\n",
       "    }\n",
       "\n",
       "    .dataframe tbody tr th {\n",
       "        vertical-align: top;\n",
       "    }\n",
       "\n",
       "    .dataframe thead th {\n",
       "        text-align: right;\n",
       "    }\n",
       "</style>\n",
       "<table border=\"1\" class=\"dataframe\">\n",
       "  <thead>\n",
       "    <tr style=\"text-align: right;\">\n",
       "      <th></th>\n",
       "      <th>Time</th>\n",
       "      <th>Likes</th>\n",
       "      <th>Reply Count</th>\n",
       "      <th>Sentiment</th>\n",
       "      <th>Sentence</th>\n",
       "    </tr>\n",
       "  </thead>\n",
       "  <tbody>\n",
       "    <tr>\n",
       "      <th>0</th>\n",
       "      <td>2023-06-23T13:16:02Z</td>\n",
       "      <td>0</td>\n",
       "      <td>0</td>\n",
       "      <td>0</td>\n",
       "      <td>bird knocking sky dropping people people would...</td>\n",
       "    </tr>\n",
       "    <tr>\n",
       "      <th>1</th>\n",
       "      <td>2023-06-23T09:04:56Z</td>\n",
       "      <td>0</td>\n",
       "      <td>0</td>\n",
       "      <td>1</td>\n",
       "      <td>technology need polished potential future</td>\n",
       "    </tr>\n",
       "    <tr>\n",
       "      <th>2</th>\n",
       "      <td>2023-06-14T13:18:45Z</td>\n",
       "      <td>0</td>\n",
       "      <td>0</td>\n",
       "      <td>0</td>\n",
       "      <td>stupid idea jeff bezos wanting make money with...</td>\n",
       "    </tr>\n",
       "    <tr>\n",
       "      <th>3</th>\n",
       "      <td>2023-06-02T08:13:37Z</td>\n",
       "      <td>0</td>\n",
       "      <td>0</td>\n",
       "      <td>2</td>\n",
       "      <td>hrefhttpswwwyoutubecomwatchvjm98klgauuampt17m3...</td>\n",
       "    </tr>\n",
       "    <tr>\n",
       "      <th>4</th>\n",
       "      <td>2023-05-30T22:08:54Z</td>\n",
       "      <td>1</td>\n",
       "      <td>0</td>\n",
       "      <td>1</td>\n",
       "      <td>gustó mucho gracias</td>\n",
       "    </tr>\n",
       "    <tr>\n",
       "      <th>...</th>\n",
       "      <td>...</td>\n",
       "      <td>...</td>\n",
       "      <td>...</td>\n",
       "      <td>...</td>\n",
       "      <td>...</td>\n",
       "    </tr>\n",
       "    <tr>\n",
       "      <th>641816</th>\n",
       "      <td>2023-03-19T06:48:12Z</td>\n",
       "      <td>0</td>\n",
       "      <td>0</td>\n",
       "      <td>1</td>\n",
       "      <td>plant v zombie music hrefhttpswwwyoutubecomwat...</td>\n",
       "    </tr>\n",
       "    <tr>\n",
       "      <th>641817</th>\n",
       "      <td>2023-03-19T06:47:06Z</td>\n",
       "      <td>0</td>\n",
       "      <td>0</td>\n",
       "      <td>2</td>\n",
       "      <td>motivated largely videowhat best way help via ...</td>\n",
       "    </tr>\n",
       "    <tr>\n",
       "      <th>641818</th>\n",
       "      <td>2023-03-19T06:47:06Z</td>\n",
       "      <td>1</td>\n",
       "      <td>0</td>\n",
       "      <td>2</td>\n",
       "      <td>cool question air traffic many business start ...</td>\n",
       "    </tr>\n",
       "    <tr>\n",
       "      <th>641819</th>\n",
       "      <td>2023-03-19T06:47:02Z</td>\n",
       "      <td>0</td>\n",
       "      <td>0</td>\n",
       "      <td>2</td>\n",
       "      <td>make want visit rwanda learn thing</td>\n",
       "    </tr>\n",
       "    <tr>\n",
       "      <th>641820</th>\n",
       "      <td>2023-03-19T06:47:01Z</td>\n",
       "      <td>0</td>\n",
       "      <td>0</td>\n",
       "      <td>2</td>\n",
       "      <td>save dog child drop zone</td>\n",
       "    </tr>\n",
       "  </tbody>\n",
       "</table>\n",
       "<p>522429 rows × 5 columns</p>\n",
       "</div>"
      ],
      "text/plain": [
       "                        Time Likes Reply Count  Sentiment  \\\n",
       "0       2023-06-23T13:16:02Z     0           0          0   \n",
       "1       2023-06-23T09:04:56Z     0           0          1   \n",
       "2       2023-06-14T13:18:45Z     0           0          0   \n",
       "3       2023-06-02T08:13:37Z     0           0          2   \n",
       "4       2023-05-30T22:08:54Z     1           0          1   \n",
       "...                      ...   ...         ...        ...   \n",
       "641816  2023-03-19T06:48:12Z     0           0          1   \n",
       "641817  2023-03-19T06:47:06Z     0           0          2   \n",
       "641818  2023-03-19T06:47:06Z     1           0          2   \n",
       "641819  2023-03-19T06:47:02Z     0           0          2   \n",
       "641820  2023-03-19T06:47:01Z     0           0          2   \n",
       "\n",
       "                                                 Sentence  \n",
       "0       bird knocking sky dropping people people would...  \n",
       "1               technology need polished potential future  \n",
       "2       stupid idea jeff bezos wanting make money with...  \n",
       "3       hrefhttpswwwyoutubecomwatchvjm98klgauuampt17m3...  \n",
       "4                                     gustó mucho gracias  \n",
       "...                                                   ...  \n",
       "641816  plant v zombie music hrefhttpswwwyoutubecomwat...  \n",
       "641817  motivated largely videowhat best way help via ...  \n",
       "641818  cool question air traffic many business start ...  \n",
       "641819                 make want visit rwanda learn thing  \n",
       "641820                           save dog child drop zone  \n",
       "\n",
       "[522429 rows x 5 columns]"
      ]
     },
     "execution_count": 23,
     "metadata": {},
     "output_type": "execute_result"
    }
   ],
   "source": [
    "fin_data"
   ]
  },
  {
   "cell_type": "markdown",
   "id": "8c762b84",
   "metadata": {},
   "source": [
    "###### Preprosessing for Analysis"
   ]
  },
  {
   "cell_type": "code",
   "execution_count": 24,
   "id": "acffdf9d",
   "metadata": {},
   "outputs": [],
   "source": [
    "fin_data['Likes'] = fin_data['Likes'].astype(str).str.replace('like', '1')\n",
    "fin_data['Reply Count'] = fin_data['Reply Count'].astype(str).str.replace('Reply Count', '1')\n"
   ]
  },
  {
   "cell_type": "code",
   "execution_count": 25,
   "id": "abf7b2ca",
   "metadata": {},
   "outputs": [],
   "source": [
    "fin_data.dropna(inplace=True)"
   ]
  },
  {
   "cell_type": "code",
   "execution_count": 28,
   "id": "a26f346e",
   "metadata": {},
   "outputs": [
    {
     "data": {
      "text/plain": [
       "Time           0\n",
       "Likes          2\n",
       "Reply Count    0\n",
       "Sentiment      0\n",
       "Sentence       0\n",
       "dtype: int64"
      ]
     },
     "execution_count": 28,
     "metadata": {},
     "output_type": "execute_result"
    }
   ],
   "source": [
    "fin_data.isnull().sum()"
   ]
  },
  {
   "cell_type": "code",
   "execution_count": 29,
   "id": "86a254a5",
   "metadata": {},
   "outputs": [],
   "source": [
    "fin_data['Likes'].fillna(0, inplace=True)\n",
    "fin_data['Likes'] = pd.to_numeric(fin_data['Likes'], errors='coerce')\n",
    "fin_data['Likes'] = fin_data['Likes'].astype('int64')\n",
    "\n",
    "fin_data['Reply Count'] = pd.to_numeric(fin_data['Reply Count'], errors='coerce')\n",
    "fin_data['Reply Count'] = fin_data['Reply Count'].astype('int64')\n",
    "\n"
   ]
  },
  {
   "cell_type": "code",
   "execution_count": 30,
   "id": "4f87ac67",
   "metadata": {},
   "outputs": [
    {
     "name": "stdout",
     "output_type": "stream",
     "text": [
      "<class 'pandas.core.frame.DataFrame'>\n",
      "Int64Index: 522429 entries, 0 to 641820\n",
      "Data columns (total 5 columns):\n",
      " #   Column       Non-Null Count   Dtype \n",
      "---  ------       --------------   ----- \n",
      " 0   Time         522429 non-null  object\n",
      " 1   Likes        522429 non-null  int64 \n",
      " 2   Reply Count  522429 non-null  int64 \n",
      " 3   Sentiment    522429 non-null  int32 \n",
      " 4   Sentence     522429 non-null  object\n",
      "dtypes: int32(1), int64(2), object(2)\n",
      "memory usage: 21.9+ MB\n"
     ]
    }
   ],
   "source": [
    "fin_data.info()"
   ]
  },
  {
   "cell_type": "code",
   "execution_count": 31,
   "id": "fb1bc4a3",
   "metadata": {},
   "outputs": [],
   "source": [
    "fin_data['Time'] = pd.to_datetime(fin_data['Time'], format='%Y-%m-%dT%H:%M:%SZ', errors='coerce')\n"
   ]
  },
  {
   "cell_type": "code",
   "execution_count": 32,
   "id": "b4cb9725",
   "metadata": {},
   "outputs": [
    {
     "name": "stdout",
     "output_type": "stream",
     "text": [
      "<class 'pandas.core.frame.DataFrame'>\n",
      "Int64Index: 522429 entries, 0 to 641820\n",
      "Data columns (total 5 columns):\n",
      " #   Column       Non-Null Count   Dtype         \n",
      "---  ------       --------------   -----         \n",
      " 0   Time         522427 non-null  datetime64[ns]\n",
      " 1   Likes        522429 non-null  int64         \n",
      " 2   Reply Count  522429 non-null  int64         \n",
      " 3   Sentiment    522429 non-null  int32         \n",
      " 4   Sentence     522429 non-null  object        \n",
      "dtypes: datetime64[ns](1), int32(1), int64(2), object(1)\n",
      "memory usage: 21.9+ MB\n"
     ]
    }
   ],
   "source": [
    "fin_data.info()"
   ]
  },
  {
   "cell_type": "code",
   "execution_count": 33,
   "id": "0b2376ef",
   "metadata": {},
   "outputs": [
    {
     "data": {
      "text/html": [
       "<div>\n",
       "<style scoped>\n",
       "    .dataframe tbody tr th:only-of-type {\n",
       "        vertical-align: middle;\n",
       "    }\n",
       "\n",
       "    .dataframe tbody tr th {\n",
       "        vertical-align: top;\n",
       "    }\n",
       "\n",
       "    .dataframe thead th {\n",
       "        text-align: right;\n",
       "    }\n",
       "</style>\n",
       "<table border=\"1\" class=\"dataframe\">\n",
       "  <thead>\n",
       "    <tr style=\"text-align: right;\">\n",
       "      <th></th>\n",
       "      <th>Time</th>\n",
       "      <th>Likes</th>\n",
       "      <th>Reply Count</th>\n",
       "      <th>Sentiment</th>\n",
       "      <th>Sentence</th>\n",
       "    </tr>\n",
       "  </thead>\n",
       "  <tbody>\n",
       "    <tr>\n",
       "      <th>0</th>\n",
       "      <td>2023-06-23 13:16:02</td>\n",
       "      <td>0</td>\n",
       "      <td>0</td>\n",
       "      <td>0</td>\n",
       "      <td>bird knocking sky dropping people people would...</td>\n",
       "    </tr>\n",
       "    <tr>\n",
       "      <th>1</th>\n",
       "      <td>2023-06-23 09:04:56</td>\n",
       "      <td>0</td>\n",
       "      <td>0</td>\n",
       "      <td>1</td>\n",
       "      <td>technology need polished potential future</td>\n",
       "    </tr>\n",
       "    <tr>\n",
       "      <th>2</th>\n",
       "      <td>2023-06-14 13:18:45</td>\n",
       "      <td>0</td>\n",
       "      <td>0</td>\n",
       "      <td>0</td>\n",
       "      <td>stupid idea jeff bezos wanting make money with...</td>\n",
       "    </tr>\n",
       "    <tr>\n",
       "      <th>3</th>\n",
       "      <td>2023-06-02 08:13:37</td>\n",
       "      <td>0</td>\n",
       "      <td>0</td>\n",
       "      <td>2</td>\n",
       "      <td>hrefhttpswwwyoutubecomwatchvjm98klgauuampt17m3...</td>\n",
       "    </tr>\n",
       "    <tr>\n",
       "      <th>4</th>\n",
       "      <td>2023-05-30 22:08:54</td>\n",
       "      <td>1</td>\n",
       "      <td>0</td>\n",
       "      <td>1</td>\n",
       "      <td>gustó mucho gracias</td>\n",
       "    </tr>\n",
       "    <tr>\n",
       "      <th>...</th>\n",
       "      <td>...</td>\n",
       "      <td>...</td>\n",
       "      <td>...</td>\n",
       "      <td>...</td>\n",
       "      <td>...</td>\n",
       "    </tr>\n",
       "    <tr>\n",
       "      <th>641816</th>\n",
       "      <td>2023-03-19 06:48:12</td>\n",
       "      <td>0</td>\n",
       "      <td>0</td>\n",
       "      <td>1</td>\n",
       "      <td>plant v zombie music hrefhttpswwwyoutubecomwat...</td>\n",
       "    </tr>\n",
       "    <tr>\n",
       "      <th>641817</th>\n",
       "      <td>2023-03-19 06:47:06</td>\n",
       "      <td>0</td>\n",
       "      <td>0</td>\n",
       "      <td>2</td>\n",
       "      <td>motivated largely videowhat best way help via ...</td>\n",
       "    </tr>\n",
       "    <tr>\n",
       "      <th>641818</th>\n",
       "      <td>2023-03-19 06:47:06</td>\n",
       "      <td>1</td>\n",
       "      <td>0</td>\n",
       "      <td>2</td>\n",
       "      <td>cool question air traffic many business start ...</td>\n",
       "    </tr>\n",
       "    <tr>\n",
       "      <th>641819</th>\n",
       "      <td>2023-03-19 06:47:02</td>\n",
       "      <td>0</td>\n",
       "      <td>0</td>\n",
       "      <td>2</td>\n",
       "      <td>make want visit rwanda learn thing</td>\n",
       "    </tr>\n",
       "    <tr>\n",
       "      <th>641820</th>\n",
       "      <td>2023-03-19 06:47:01</td>\n",
       "      <td>0</td>\n",
       "      <td>0</td>\n",
       "      <td>2</td>\n",
       "      <td>save dog child drop zone</td>\n",
       "    </tr>\n",
       "  </tbody>\n",
       "</table>\n",
       "<p>522429 rows × 5 columns</p>\n",
       "</div>"
      ],
      "text/plain": [
       "                      Time  Likes  Reply Count  Sentiment  \\\n",
       "0      2023-06-23 13:16:02      0            0          0   \n",
       "1      2023-06-23 09:04:56      0            0          1   \n",
       "2      2023-06-14 13:18:45      0            0          0   \n",
       "3      2023-06-02 08:13:37      0            0          2   \n",
       "4      2023-05-30 22:08:54      1            0          1   \n",
       "...                    ...    ...          ...        ...   \n",
       "641816 2023-03-19 06:48:12      0            0          1   \n",
       "641817 2023-03-19 06:47:06      0            0          2   \n",
       "641818 2023-03-19 06:47:06      1            0          2   \n",
       "641819 2023-03-19 06:47:02      0            0          2   \n",
       "641820 2023-03-19 06:47:01      0            0          2   \n",
       "\n",
       "                                                 Sentence  \n",
       "0       bird knocking sky dropping people people would...  \n",
       "1               technology need polished potential future  \n",
       "2       stupid idea jeff bezos wanting make money with...  \n",
       "3       hrefhttpswwwyoutubecomwatchvjm98klgauuampt17m3...  \n",
       "4                                     gustó mucho gracias  \n",
       "...                                                   ...  \n",
       "641816  plant v zombie music hrefhttpswwwyoutubecomwat...  \n",
       "641817  motivated largely videowhat best way help via ...  \n",
       "641818  cool question air traffic many business start ...  \n",
       "641819                 make want visit rwanda learn thing  \n",
       "641820                           save dog child drop zone  \n",
       "\n",
       "[522429 rows x 5 columns]"
      ]
     },
     "execution_count": 33,
     "metadata": {},
     "output_type": "execute_result"
    }
   ],
   "source": [
    "fin_data"
   ]
  },
  {
   "cell_type": "code",
   "execution_count": 34,
   "id": "feec7472",
   "metadata": {},
   "outputs": [],
   "source": [
    "fin_data['date'] = pd.to_datetime(fin_data['Time']).dt.date.astype(str)\n",
    "fin_data['date'] = fin_data['date'].str[:10]"
   ]
  },
  {
   "cell_type": "markdown",
   "id": "3a40b04a",
   "metadata": {},
   "source": [
    "## let's visualize the data"
   ]
  },
  {
   "cell_type": "code",
   "execution_count": 58,
   "id": "db1e104d",
   "metadata": {},
   "outputs": [],
   "source": [
    "time_s = fin_data.drop('Sentence', axis=1).copy()"
   ]
  },
  {
   "cell_type": "code",
   "execution_count": 59,
   "id": "9e9f5b02",
   "metadata": {},
   "outputs": [
    {
     "data": {
      "text/html": [
       "<div>\n",
       "<style scoped>\n",
       "    .dataframe tbody tr th:only-of-type {\n",
       "        vertical-align: middle;\n",
       "    }\n",
       "\n",
       "    .dataframe tbody tr th {\n",
       "        vertical-align: top;\n",
       "    }\n",
       "\n",
       "    .dataframe thead th {\n",
       "        text-align: right;\n",
       "    }\n",
       "</style>\n",
       "<table border=\"1\" class=\"dataframe\">\n",
       "  <thead>\n",
       "    <tr style=\"text-align: right;\">\n",
       "      <th></th>\n",
       "      <th>Time</th>\n",
       "      <th>Likes</th>\n",
       "      <th>Reply Count</th>\n",
       "      <th>Sentiment</th>\n",
       "      <th>date</th>\n",
       "    </tr>\n",
       "  </thead>\n",
       "  <tbody>\n",
       "    <tr>\n",
       "      <th>0</th>\n",
       "      <td>2023-06-23 13:16:02</td>\n",
       "      <td>0</td>\n",
       "      <td>0</td>\n",
       "      <td>0</td>\n",
       "      <td>2023-06-23</td>\n",
       "    </tr>\n",
       "    <tr>\n",
       "      <th>1</th>\n",
       "      <td>2023-06-23 09:04:56</td>\n",
       "      <td>0</td>\n",
       "      <td>0</td>\n",
       "      <td>1</td>\n",
       "      <td>2023-06-23</td>\n",
       "    </tr>\n",
       "    <tr>\n",
       "      <th>2</th>\n",
       "      <td>2023-06-14 13:18:45</td>\n",
       "      <td>0</td>\n",
       "      <td>0</td>\n",
       "      <td>0</td>\n",
       "      <td>2023-06-14</td>\n",
       "    </tr>\n",
       "    <tr>\n",
       "      <th>3</th>\n",
       "      <td>2023-06-02 08:13:37</td>\n",
       "      <td>0</td>\n",
       "      <td>0</td>\n",
       "      <td>2</td>\n",
       "      <td>2023-06-02</td>\n",
       "    </tr>\n",
       "    <tr>\n",
       "      <th>4</th>\n",
       "      <td>2023-05-30 22:08:54</td>\n",
       "      <td>1</td>\n",
       "      <td>0</td>\n",
       "      <td>1</td>\n",
       "      <td>2023-05-30</td>\n",
       "    </tr>\n",
       "    <tr>\n",
       "      <th>...</th>\n",
       "      <td>...</td>\n",
       "      <td>...</td>\n",
       "      <td>...</td>\n",
       "      <td>...</td>\n",
       "      <td>...</td>\n",
       "    </tr>\n",
       "    <tr>\n",
       "      <th>641816</th>\n",
       "      <td>2023-03-19 06:48:12</td>\n",
       "      <td>0</td>\n",
       "      <td>0</td>\n",
       "      <td>1</td>\n",
       "      <td>2023-03-19</td>\n",
       "    </tr>\n",
       "    <tr>\n",
       "      <th>641817</th>\n",
       "      <td>2023-03-19 06:47:06</td>\n",
       "      <td>0</td>\n",
       "      <td>0</td>\n",
       "      <td>2</td>\n",
       "      <td>2023-03-19</td>\n",
       "    </tr>\n",
       "    <tr>\n",
       "      <th>641818</th>\n",
       "      <td>2023-03-19 06:47:06</td>\n",
       "      <td>1</td>\n",
       "      <td>0</td>\n",
       "      <td>2</td>\n",
       "      <td>2023-03-19</td>\n",
       "    </tr>\n",
       "    <tr>\n",
       "      <th>641819</th>\n",
       "      <td>2023-03-19 06:47:02</td>\n",
       "      <td>0</td>\n",
       "      <td>0</td>\n",
       "      <td>2</td>\n",
       "      <td>2023-03-19</td>\n",
       "    </tr>\n",
       "    <tr>\n",
       "      <th>641820</th>\n",
       "      <td>2023-03-19 06:47:01</td>\n",
       "      <td>0</td>\n",
       "      <td>0</td>\n",
       "      <td>2</td>\n",
       "      <td>2023-03-19</td>\n",
       "    </tr>\n",
       "  </tbody>\n",
       "</table>\n",
       "<p>522429 rows × 5 columns</p>\n",
       "</div>"
      ],
      "text/plain": [
       "                      Time  Likes  Reply Count  Sentiment        date\n",
       "0      2023-06-23 13:16:02      0            0          0  2023-06-23\n",
       "1      2023-06-23 09:04:56      0            0          1  2023-06-23\n",
       "2      2023-06-14 13:18:45      0            0          0  2023-06-14\n",
       "3      2023-06-02 08:13:37      0            0          2  2023-06-02\n",
       "4      2023-05-30 22:08:54      1            0          1  2023-05-30\n",
       "...                    ...    ...          ...        ...         ...\n",
       "641816 2023-03-19 06:48:12      0            0          1  2023-03-19\n",
       "641817 2023-03-19 06:47:06      0            0          2  2023-03-19\n",
       "641818 2023-03-19 06:47:06      1            0          2  2023-03-19\n",
       "641819 2023-03-19 06:47:02      0            0          2  2023-03-19\n",
       "641820 2023-03-19 06:47:01      0            0          2  2023-03-19\n",
       "\n",
       "[522429 rows x 5 columns]"
      ]
     },
     "execution_count": 59,
     "metadata": {},
     "output_type": "execute_result"
    }
   ],
   "source": [
    "time_s"
   ]
  },
  {
   "cell_type": "code",
   "execution_count": 60,
   "id": "5ac7b85f",
   "metadata": {},
   "outputs": [
    {
     "data": {
      "text/html": [
       "<div>\n",
       "<style scoped>\n",
       "    .dataframe tbody tr th:only-of-type {\n",
       "        vertical-align: middle;\n",
       "    }\n",
       "\n",
       "    .dataframe tbody tr th {\n",
       "        vertical-align: top;\n",
       "    }\n",
       "\n",
       "    .dataframe thead th {\n",
       "        text-align: right;\n",
       "    }\n",
       "</style>\n",
       "<table border=\"1\" class=\"dataframe\">\n",
       "  <thead>\n",
       "    <tr style=\"text-align: right;\">\n",
       "      <th></th>\n",
       "      <th>Time</th>\n",
       "      <th>Likes</th>\n",
       "      <th>Reply Count</th>\n",
       "      <th>Sentiment</th>\n",
       "    </tr>\n",
       "    <tr>\n",
       "      <th>date</th>\n",
       "      <th></th>\n",
       "      <th></th>\n",
       "      <th></th>\n",
       "      <th></th>\n",
       "    </tr>\n",
       "  </thead>\n",
       "  <tbody>\n",
       "    <tr>\n",
       "      <th>2023-06-23</th>\n",
       "      <td>2023-06-23 13:16:02</td>\n",
       "      <td>0</td>\n",
       "      <td>0</td>\n",
       "      <td>0</td>\n",
       "    </tr>\n",
       "    <tr>\n",
       "      <th>2023-06-23</th>\n",
       "      <td>2023-06-23 09:04:56</td>\n",
       "      <td>0</td>\n",
       "      <td>0</td>\n",
       "      <td>1</td>\n",
       "    </tr>\n",
       "    <tr>\n",
       "      <th>2023-06-14</th>\n",
       "      <td>2023-06-14 13:18:45</td>\n",
       "      <td>0</td>\n",
       "      <td>0</td>\n",
       "      <td>0</td>\n",
       "    </tr>\n",
       "    <tr>\n",
       "      <th>2023-06-02</th>\n",
       "      <td>2023-06-02 08:13:37</td>\n",
       "      <td>0</td>\n",
       "      <td>0</td>\n",
       "      <td>2</td>\n",
       "    </tr>\n",
       "    <tr>\n",
       "      <th>2023-05-30</th>\n",
       "      <td>2023-05-30 22:08:54</td>\n",
       "      <td>1</td>\n",
       "      <td>0</td>\n",
       "      <td>1</td>\n",
       "    </tr>\n",
       "  </tbody>\n",
       "</table>\n",
       "</div>"
      ],
      "text/plain": [
       "                          Time  Likes  Reply Count  Sentiment\n",
       "date                                                         \n",
       "2023-06-23 2023-06-23 13:16:02      0            0          0\n",
       "2023-06-23 2023-06-23 09:04:56      0            0          1\n",
       "2023-06-14 2023-06-14 13:18:45      0            0          0\n",
       "2023-06-02 2023-06-02 08:13:37      0            0          2\n",
       "2023-05-30 2023-05-30 22:08:54      1            0          1"
      ]
     },
     "execution_count": 60,
     "metadata": {},
     "output_type": "execute_result"
    }
   ],
   "source": [
    "time_s.set_index('date',inplace=True)\n",
    "time_s.index.freq = 'MS'\n",
    "time_s.head()"
   ]
  },
  {
   "cell_type": "code",
   "execution_count": 61,
   "id": "61533657",
   "metadata": {},
   "outputs": [],
   "source": [
    "time_s.dropna(inplace=True)"
   ]
  },
  {
   "cell_type": "code",
   "execution_count": 81,
   "id": "eedb0112",
   "metadata": {},
   "outputs": [
    {
     "data": {
      "image/png": "[encoded data removed]",
      "text/plain": [
       "<Figure size 864x432 with 1 Axes>"
      ]
     },
     "metadata": {
      "needs_background": "light"
     },
     "output_type": "display_data"
    }
   ],
   "source": [
    "title = 'Monthly Mean'\n",
    "ylabel='Counts'\n",
    "xlabel='' # we don't really need a label here\n",
    "\n",
    "ax = time_s['Likes'].plot(figsize=(12,6),title=title)\n",
    "ax.autoscale(axis='x',tight=True)\n",
    "ax.set(xlabel=xlabel, ylabel=ylabel);"
   ]
  },
  {
   "cell_type": "code",
   "execution_count": 68,
   "id": "42c70155",
   "metadata": {},
   "outputs": [
    {
     "data": {
      "image/png": "[encoded data removed]",
      "text/plain": [
       "<Figure size 576x432 with 1 Axes>"
      ]
     },
     "metadata": {
      "needs_background": "light"
     },
     "output_type": "display_data"
    }
   ],
   "source": [
    "sentiment_counts = df['Sentiment'].value_counts()\n",
    "\n",
    "plt.figure(figsize=(8, 6))\n",
    "plt.bar(sentiment_counts.index, sentiment_counts.values)\n",
    "plt.xlabel('Sentiment')\n",
    "plt.ylabel('Count')\n",
    "plt.title('Distribution of Sentiment')\n",
    "plt.grid(True)\n",
    "plt.show()"
   ]
  },
  {
   "cell_type": "code",
   "execution_count": 80,
   "id": "17d182fc",
   "metadata": {},
   "outputs": [
    {
     "data": {
      "image/png": "[encoded data removed]",
      "text/plain": [
       "<Figure size 1152x720 with 1 Axes>"
      ]
     },
     "metadata": {
      "needs_background": "light"
     },
     "output_type": "display_data"
    }
   ],
   "source": [
    "time_s_2017 = time_s[time_s['Time'].dt.year == 2017]\n",
    "sentiment_counts = time_s_2017.groupby(['Time', 'Sentiment']).size().unstack(fill_value=0)\n",
    "\n",
    "sentiment_values = [0, 1, 2]\n",
    "total_counts = sentiment_counts.sum()\n",
    "normalized_counts = total_counts / total_counts.max()\n",
    "plt.figure(figsize=(16, 10))\n",
    "for sentiment in sentiment_values:\n",
    "    plt.scatter(sentiment_counts.index, [sentiment] * len(sentiment_counts),\n",
    "                s=1000 * normalized_counts[sentiment], label=sentiment)\n",
    "\n",
    "plt.xlabel('Time')\n",
    "plt.ylabel('Sentiment')\n",
    "plt.title('Distribution of Sentiment over Time (2017)')\n",
    "plt.legend(title='Sentiment')\n",
    "plt.xticks(rotation=45)\n",
    "plt.yticks(sentiment_values)\n",
    "plt.grid(True)\n",
    "plt.show()\n"
   ]
  },
  {
   "cell_type": "code",
   "execution_count": 64,
   "id": "699ac3db",
   "metadata": {},
   "outputs": [
    {
     "data": {
      "image/png": "[encoded data removed]",
      "text/plain": [
       "<Figure size 1800x576 with 1 Axes>"
      ]
     },
     "metadata": {
      "needs_background": "light"
     },
     "output_type": "display_data"
    }
   ],
   "source": [
    "\n",
    "time_s['Time'] = pd.to_datetime(time_s['Time'], unit='s')\n",
    "time_s['Month'] = time_s['Time'].dt.to_period('M')\n",
    "\n",
    "monthly_sentiment = time_s.groupby('Month')['Sentiment'].mean()\n",
    "monthly_sentiment.index = monthly_sentiment.index.astype(str)\n",
    "\n",
    "plt.figure(figsize=(25, 8))\n",
    "plt.plot(monthly_sentiment.index, monthly_sentiment.values, marker='o')\n",
    "plt.xlabel('Month')\n",
    "plt.ylabel('Average Sentiment')\n",
    "plt.title('Average Sentiment Over Time')\n",
    "plt.xticks(rotation=45)\n",
    "plt.show()\n"
   ]
  }
 ],
 "metadata": {
  "kernelspec": {
   "display_name": "ml",
   "language": "python",
   "name": "ml"
  },
  "language_info": {
   "codemirror_mode": {
    "name": "ipython",
    "version": 3
   },
   "file_extension": ".py",
   "mimetype": "text/x-python",
   "name": "python",
   "nbconvert_exporter": "python",
   "pygments_lexer": "ipython3",
   "version": "3.9.12"
  }
 },
 "nbformat": 4,
 "nbformat_minor": 5
}
